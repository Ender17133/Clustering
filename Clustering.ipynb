{
 "cells": [
  {
   "cell_type": "markdown",
   "metadata": {
    "id": "GtYqxlPx4ISt"
   },
   "source": [
    "# Libraries"
   ]
  },
  {
   "cell_type": "code",
   "execution_count": 2,
   "metadata": {
    "id": "e1hv9xIh3ILy"
   },
   "outputs": [],
   "source": [
    "# Libraries\n",
    "## sklearn\n",
    "from sklearn.decomposition import PCA\n",
    "from sklearn.preprocessing import StandardScaler\n",
    "from sklearn.cluster import KMeans\n",
    "\n",
    "\n",
    "## basics\n",
    "import pandas as pd\n",
    "import numpy as np\n",
    "import matplotlib.pyplot as plt\n",
    "import random\n"
   ]
  },
  {
   "cell_type": "markdown",
   "metadata": {
    "id": "v2E_QNXN6b6g"
   },
   "source": [
    "# Fundamentals"
   ]
  },
  {
   "cell_type": "markdown",
   "metadata": {
    "id": "AbBO6TIa4uBI"
   },
   "source": [
    "## Import Data\n",
    "I am interested in learning patterns of stocks by analyzing and clustering fundamental indicators of stocks data in December 2016. According to dataset source in Kaggle:\n",
    "\n",
    "`fundamentals.csv`: metrics extracted from annual SEC 10K fillings (2012-2016), should be enough to derive most of popular fundamental indicators.\n",
    "\n",
    "You can access all data from this [link](https://www.kaggle.com/code/uknowabhishek/nyse-fundamentals-analysis-and-k-means-clustering/notebook)."
   ]
  },
  {
   "cell_type": "code",
   "execution_count": 3,
   "metadata": {
    "id": "wafyYtii4fNB"
   },
   "outputs": [],
   "source": [
    "# read the data\n",
    "df_fundamentals = pd.read_csv('fundamentals.csv')"
   ]
  },
  {
   "cell_type": "code",
   "execution_count": 4,
   "metadata": {
    "colab": {
     "base_uri": "https://localhost:8080/",
     "height": 357
    },
    "id": "1NTHcyUy6fwp",
    "outputId": "9caff554-6c5e-4e9e-d93b-fcd2ae6b98ff"
   },
   "outputs": [
    {
     "data": {
      "text/html": [
       "<div>\n",
       "<style scoped>\n",
       "    .dataframe tbody tr th:only-of-type {\n",
       "        vertical-align: middle;\n",
       "    }\n",
       "\n",
       "    .dataframe tbody tr th {\n",
       "        vertical-align: top;\n",
       "    }\n",
       "\n",
       "    .dataframe thead th {\n",
       "        text-align: right;\n",
       "    }\n",
       "</style>\n",
       "<table border=\"1\" class=\"dataframe\">\n",
       "  <thead>\n",
       "    <tr style=\"text-align: right;\">\n",
       "      <th></th>\n",
       "      <th>Unnamed: 0</th>\n",
       "      <th>Ticker Symbol</th>\n",
       "      <th>Period Ending</th>\n",
       "      <th>Accounts Payable</th>\n",
       "      <th>Accounts Receivable</th>\n",
       "      <th>Add'l income/expense items</th>\n",
       "      <th>After Tax ROE</th>\n",
       "      <th>Capital Expenditures</th>\n",
       "      <th>Capital Surplus</th>\n",
       "      <th>Cash Ratio</th>\n",
       "      <th>...</th>\n",
       "      <th>Total Current Assets</th>\n",
       "      <th>Total Current Liabilities</th>\n",
       "      <th>Total Equity</th>\n",
       "      <th>Total Liabilities</th>\n",
       "      <th>Total Liabilities &amp; Equity</th>\n",
       "      <th>Total Revenue</th>\n",
       "      <th>Treasury Stock</th>\n",
       "      <th>For Year</th>\n",
       "      <th>Earnings Per Share</th>\n",
       "      <th>Estimated Shares Outstanding</th>\n",
       "    </tr>\n",
       "  </thead>\n",
       "  <tbody>\n",
       "    <tr>\n",
       "      <th>0</th>\n",
       "      <td>0</td>\n",
       "      <td>AAL</td>\n",
       "      <td>2012-12-31</td>\n",
       "      <td>3.068000e+09</td>\n",
       "      <td>-222000000.0</td>\n",
       "      <td>-1.961000e+09</td>\n",
       "      <td>23.0</td>\n",
       "      <td>-1.888000e+09</td>\n",
       "      <td>4.695000e+09</td>\n",
       "      <td>53.0</td>\n",
       "      <td>...</td>\n",
       "      <td>7.072000e+09</td>\n",
       "      <td>9.011000e+09</td>\n",
       "      <td>-7.987000e+09</td>\n",
       "      <td>2.489100e+10</td>\n",
       "      <td>1.690400e+10</td>\n",
       "      <td>2.485500e+10</td>\n",
       "      <td>-367000000.0</td>\n",
       "      <td>2012.0</td>\n",
       "      <td>-5.60</td>\n",
       "      <td>3.350000e+08</td>\n",
       "    </tr>\n",
       "    <tr>\n",
       "      <th>1</th>\n",
       "      <td>1</td>\n",
       "      <td>AAL</td>\n",
       "      <td>2013-12-31</td>\n",
       "      <td>4.975000e+09</td>\n",
       "      <td>-93000000.0</td>\n",
       "      <td>-2.723000e+09</td>\n",
       "      <td>67.0</td>\n",
       "      <td>-3.114000e+09</td>\n",
       "      <td>1.059200e+10</td>\n",
       "      <td>75.0</td>\n",
       "      <td>...</td>\n",
       "      <td>1.432300e+10</td>\n",
       "      <td>1.380600e+10</td>\n",
       "      <td>-2.731000e+09</td>\n",
       "      <td>4.500900e+10</td>\n",
       "      <td>4.227800e+10</td>\n",
       "      <td>2.674300e+10</td>\n",
       "      <td>0.0</td>\n",
       "      <td>2013.0</td>\n",
       "      <td>-11.25</td>\n",
       "      <td>1.630222e+08</td>\n",
       "    </tr>\n",
       "    <tr>\n",
       "      <th>2</th>\n",
       "      <td>2</td>\n",
       "      <td>AAL</td>\n",
       "      <td>2014-12-31</td>\n",
       "      <td>4.668000e+09</td>\n",
       "      <td>-160000000.0</td>\n",
       "      <td>-1.500000e+08</td>\n",
       "      <td>143.0</td>\n",
       "      <td>-5.311000e+09</td>\n",
       "      <td>1.513500e+10</td>\n",
       "      <td>60.0</td>\n",
       "      <td>...</td>\n",
       "      <td>1.175000e+10</td>\n",
       "      <td>1.340400e+10</td>\n",
       "      <td>2.021000e+09</td>\n",
       "      <td>4.120400e+10</td>\n",
       "      <td>4.322500e+10</td>\n",
       "      <td>4.265000e+10</td>\n",
       "      <td>0.0</td>\n",
       "      <td>2014.0</td>\n",
       "      <td>4.02</td>\n",
       "      <td>7.169154e+08</td>\n",
       "    </tr>\n",
       "    <tr>\n",
       "      <th>3</th>\n",
       "      <td>3</td>\n",
       "      <td>AAL</td>\n",
       "      <td>2015-12-31</td>\n",
       "      <td>5.102000e+09</td>\n",
       "      <td>352000000.0</td>\n",
       "      <td>-7.080000e+08</td>\n",
       "      <td>135.0</td>\n",
       "      <td>-6.151000e+09</td>\n",
       "      <td>1.159100e+10</td>\n",
       "      <td>51.0</td>\n",
       "      <td>...</td>\n",
       "      <td>9.985000e+09</td>\n",
       "      <td>1.360500e+10</td>\n",
       "      <td>5.635000e+09</td>\n",
       "      <td>4.278000e+10</td>\n",
       "      <td>4.841500e+10</td>\n",
       "      <td>4.099000e+10</td>\n",
       "      <td>0.0</td>\n",
       "      <td>2015.0</td>\n",
       "      <td>11.39</td>\n",
       "      <td>6.681299e+08</td>\n",
       "    </tr>\n",
       "    <tr>\n",
       "      <th>4</th>\n",
       "      <td>4</td>\n",
       "      <td>AAP</td>\n",
       "      <td>2012-12-29</td>\n",
       "      <td>2.409453e+09</td>\n",
       "      <td>-89482000.0</td>\n",
       "      <td>6.000000e+05</td>\n",
       "      <td>32.0</td>\n",
       "      <td>-2.711820e+08</td>\n",
       "      <td>5.202150e+08</td>\n",
       "      <td>23.0</td>\n",
       "      <td>...</td>\n",
       "      <td>3.184200e+09</td>\n",
       "      <td>2.559638e+09</td>\n",
       "      <td>1.210694e+09</td>\n",
       "      <td>3.403120e+09</td>\n",
       "      <td>4.613814e+09</td>\n",
       "      <td>6.205003e+09</td>\n",
       "      <td>-27095000.0</td>\n",
       "      <td>2012.0</td>\n",
       "      <td>5.29</td>\n",
       "      <td>7.328355e+07</td>\n",
       "    </tr>\n",
       "  </tbody>\n",
       "</table>\n",
       "<p>5 rows × 79 columns</p>\n",
       "</div>"
      ],
      "text/plain": [
       "   Unnamed: 0 Ticker Symbol Period Ending  Accounts Payable  \\\n",
       "0           0           AAL    2012-12-31      3.068000e+09   \n",
       "1           1           AAL    2013-12-31      4.975000e+09   \n",
       "2           2           AAL    2014-12-31      4.668000e+09   \n",
       "3           3           AAL    2015-12-31      5.102000e+09   \n",
       "4           4           AAP    2012-12-29      2.409453e+09   \n",
       "\n",
       "   Accounts Receivable  Add'l income/expense items  After Tax ROE  \\\n",
       "0         -222000000.0               -1.961000e+09           23.0   \n",
       "1          -93000000.0               -2.723000e+09           67.0   \n",
       "2         -160000000.0               -1.500000e+08          143.0   \n",
       "3          352000000.0               -7.080000e+08          135.0   \n",
       "4          -89482000.0                6.000000e+05           32.0   \n",
       "\n",
       "   Capital Expenditures  Capital Surplus  Cash Ratio  ...  \\\n",
       "0         -1.888000e+09     4.695000e+09        53.0  ...   \n",
       "1         -3.114000e+09     1.059200e+10        75.0  ...   \n",
       "2         -5.311000e+09     1.513500e+10        60.0  ...   \n",
       "3         -6.151000e+09     1.159100e+10        51.0  ...   \n",
       "4         -2.711820e+08     5.202150e+08        23.0  ...   \n",
       "\n",
       "   Total Current Assets  Total Current Liabilities  Total Equity  \\\n",
       "0          7.072000e+09               9.011000e+09 -7.987000e+09   \n",
       "1          1.432300e+10               1.380600e+10 -2.731000e+09   \n",
       "2          1.175000e+10               1.340400e+10  2.021000e+09   \n",
       "3          9.985000e+09               1.360500e+10  5.635000e+09   \n",
       "4          3.184200e+09               2.559638e+09  1.210694e+09   \n",
       "\n",
       "   Total Liabilities  Total Liabilities & Equity  Total Revenue  \\\n",
       "0       2.489100e+10                1.690400e+10   2.485500e+10   \n",
       "1       4.500900e+10                4.227800e+10   2.674300e+10   \n",
       "2       4.120400e+10                4.322500e+10   4.265000e+10   \n",
       "3       4.278000e+10                4.841500e+10   4.099000e+10   \n",
       "4       3.403120e+09                4.613814e+09   6.205003e+09   \n",
       "\n",
       "   Treasury Stock  For Year  Earnings Per Share  Estimated Shares Outstanding  \n",
       "0    -367000000.0    2012.0               -5.60                  3.350000e+08  \n",
       "1             0.0    2013.0              -11.25                  1.630222e+08  \n",
       "2             0.0    2014.0                4.02                  7.169154e+08  \n",
       "3             0.0    2015.0               11.39                  6.681299e+08  \n",
       "4     -27095000.0    2012.0                5.29                  7.328355e+07  \n",
       "\n",
       "[5 rows x 79 columns]"
      ]
     },
     "execution_count": 4,
     "metadata": {},
     "output_type": "execute_result"
    }
   ],
   "source": [
    "# first few rows of the data\n",
    "df_fundamentals.head()"
   ]
  },
  {
   "cell_type": "code",
   "execution_count": 5,
   "metadata": {
    "colab": {
     "base_uri": "https://localhost:8080/"
    },
    "id": "QcnPSx6W7J47",
    "outputId": "9814be3c-6812-43bc-f91d-08bb9d50624f"
   },
   "outputs": [
    {
     "name": "stdout",
     "output_type": "stream",
     "text": [
      "There are 1781 rows and 79 columns in the fundamental indicators dataset\n"
     ]
    }
   ],
   "source": [
    "# number of columns and rows in the fundamentals data\n",
    "length = df_fundamentals.shape\n",
    "\n",
    "print(f\"There are {length[0]} rows and {length[1]} columns in the fundamental indicators dataset\")"
   ]
  },
  {
   "cell_type": "code",
   "execution_count": 6,
   "metadata": {
    "colab": {
     "base_uri": "https://localhost:8080/"
    },
    "id": "ifjy2onE7ufS",
    "outputId": "b4b8af25-c104-4972-f3de-4e698198dd95"
   },
   "outputs": [
    {
     "name": "stdout",
     "output_type": "stream",
     "text": [
      "<class 'pandas.core.frame.DataFrame'>\n",
      "RangeIndex: 1781 entries, 0 to 1780\n",
      "Data columns (total 79 columns):\n",
      " #   Column                                               Non-Null Count  Dtype  \n",
      "---  ------                                               --------------  -----  \n",
      " 0   Unnamed: 0                                           1781 non-null   int64  \n",
      " 1   Ticker Symbol                                        1781 non-null   object \n",
      " 2   Period Ending                                        1781 non-null   object \n",
      " 3   Accounts Payable                                     1781 non-null   float64\n",
      " 4   Accounts Receivable                                  1781 non-null   float64\n",
      " 5   Add'l income/expense items                           1781 non-null   float64\n",
      " 6   After Tax ROE                                        1781 non-null   float64\n",
      " 7   Capital Expenditures                                 1781 non-null   float64\n",
      " 8   Capital Surplus                                      1781 non-null   float64\n",
      " 9   Cash Ratio                                           1482 non-null   float64\n",
      " 10  Cash and Cash Equivalents                            1781 non-null   float64\n",
      " 11  Changes in Inventories                               1781 non-null   float64\n",
      " 12  Common Stocks                                        1781 non-null   float64\n",
      " 13  Cost of Revenue                                      1781 non-null   float64\n",
      " 14  Current Ratio                                        1482 non-null   float64\n",
      " 15  Deferred Asset Charges                               1781 non-null   float64\n",
      " 16  Deferred Liability Charges                           1781 non-null   float64\n",
      " 17  Depreciation                                         1781 non-null   float64\n",
      " 18  Earnings Before Interest and Tax                     1781 non-null   float64\n",
      " 19  Earnings Before Tax                                  1781 non-null   float64\n",
      " 20  Effect of Exchange Rate                              1781 non-null   float64\n",
      " 21  Equity Earnings/Loss Unconsolidated Subsidiary       1781 non-null   float64\n",
      " 22  Fixed Assets                                         1781 non-null   float64\n",
      " 23  Goodwill                                             1781 non-null   float64\n",
      " 24  Gross Margin                                         1781 non-null   float64\n",
      " 25  Gross Profit                                         1781 non-null   float64\n",
      " 26  Income Tax                                           1781 non-null   float64\n",
      " 27  Intangible Assets                                    1781 non-null   float64\n",
      " 28  Interest Expense                                     1781 non-null   float64\n",
      " 29  Inventory                                            1781 non-null   float64\n",
      " 30  Investments                                          1781 non-null   float64\n",
      " 31  Liabilities                                          1781 non-null   float64\n",
      " 32  Long-Term Debt                                       1781 non-null   float64\n",
      " 33  Long-Term Investments                                1781 non-null   float64\n",
      " 34  Minority Interest                                    1781 non-null   float64\n",
      " 35  Misc. Stocks                                         1781 non-null   float64\n",
      " 36  Net Borrowings                                       1781 non-null   float64\n",
      " 37  Net Cash Flow                                        1781 non-null   float64\n",
      " 38  Net Cash Flow-Operating                              1781 non-null   float64\n",
      " 39  Net Cash Flows-Financing                             1781 non-null   float64\n",
      " 40  Net Cash Flows-Investing                             1781 non-null   float64\n",
      " 41  Net Income                                           1781 non-null   float64\n",
      " 42  Net Income Adjustments                               1781 non-null   float64\n",
      " 43  Net Income Applicable to Common Shareholders         1781 non-null   float64\n",
      " 44  Net Income-Cont. Operations                          1781 non-null   float64\n",
      " 45  Net Receivables                                      1781 non-null   float64\n",
      " 46  Non-Recurring Items                                  1781 non-null   float64\n",
      " 47  Operating Income                                     1781 non-null   float64\n",
      " 48  Operating Margin                                     1781 non-null   float64\n",
      " 49  Other Assets                                         1781 non-null   float64\n",
      " 50  Other Current Assets                                 1781 non-null   float64\n",
      " 51  Other Current Liabilities                            1781 non-null   float64\n",
      " 52  Other Equity                                         1781 non-null   float64\n",
      " 53  Other Financing Activities                           1781 non-null   float64\n",
      " 54  Other Investing Activities                           1781 non-null   float64\n",
      " 55  Other Liabilities                                    1781 non-null   float64\n",
      " 56  Other Operating Activities                           1781 non-null   float64\n",
      " 57  Other Operating Items                                1781 non-null   float64\n",
      " 58  Pre-Tax Margin                                       1781 non-null   float64\n",
      " 59  Pre-Tax ROE                                          1781 non-null   float64\n",
      " 60  Profit Margin                                        1781 non-null   float64\n",
      " 61  Quick Ratio                                          1482 non-null   float64\n",
      " 62  Research and Development                             1781 non-null   float64\n",
      " 63  Retained Earnings                                    1781 non-null   float64\n",
      " 64  Sale and Purchase of Stock                           1781 non-null   float64\n",
      " 65  Sales, General and Admin.                            1781 non-null   float64\n",
      " 66  Short-Term Debt / Current Portion of Long-Term Debt  1781 non-null   float64\n",
      " 67  Short-Term Investments                               1781 non-null   float64\n",
      " 68  Total Assets                                         1781 non-null   float64\n",
      " 69  Total Current Assets                                 1781 non-null   float64\n",
      " 70  Total Current Liabilities                            1781 non-null   float64\n",
      " 71  Total Equity                                         1781 non-null   float64\n",
      " 72  Total Liabilities                                    1781 non-null   float64\n",
      " 73  Total Liabilities & Equity                           1781 non-null   float64\n",
      " 74  Total Revenue                                        1781 non-null   float64\n",
      " 75  Treasury Stock                                       1781 non-null   float64\n",
      " 76  For Year                                             1608 non-null   float64\n",
      " 77  Earnings Per Share                                   1562 non-null   float64\n",
      " 78  Estimated Shares Outstanding                         1562 non-null   float64\n",
      "dtypes: float64(76), int64(1), object(2)\n",
      "memory usage: 1.1+ MB\n"
     ]
    }
   ],
   "source": [
    "# information about data and its datatypes\n",
    "df_fundamentals.info()"
   ]
  },
  {
   "cell_type": "markdown",
   "metadata": {
    "id": "wu5GNVoe736D"
   },
   "source": [
    "There are 1781 rows and 79 columns in the dataset. I need to apply `Principal Component Analysis` (PCA) to reduce dimensionality of the data. Furthermore, there are `Uknown` and `Period Ending` columns which are going to be irrelevant for clustering, so I have to drop them. But before I drop `Period Ending` column, I need to use this column to filter data for only December 2016 fundamental metrics."
   ]
  },
  {
   "cell_type": "markdown",
   "metadata": {
    "id": "CN7Xswzz8VPN"
   },
   "source": [
    "## Data Cleaning"
   ]
  },
  {
   "cell_type": "code",
   "execution_count": 7,
   "metadata": {
    "id": "QnMKQnmnhw9o"
   },
   "outputs": [],
   "source": [
    "# convert `Period Ending` column to datetime\n",
    "df_fundamentals['Period Ending'] = pd.to_datetime(df_fundamentals['Period Ending'])\n",
    "\n",
    "# filter fundamental metrics data to include stock indicators of December 2016\n",
    "filtered_fundamentals = df_fundamentals[(df_fundamentals['Period Ending'].dt.year == 2016) & (df_fundamentals['Period Ending'].dt.month == 12)]"
   ]
  },
  {
   "cell_type": "code",
   "execution_count": 8,
   "metadata": {
    "colab": {
     "base_uri": "https://localhost:8080/",
     "height": 357
    },
    "id": "CcTg7IKhjVrB",
    "outputId": "993dde7b-6f53-4756-b842-61d109a6da18"
   },
   "outputs": [
    {
     "data": {
      "text/html": [
       "<div>\n",
       "<style scoped>\n",
       "    .dataframe tbody tr th:only-of-type {\n",
       "        vertical-align: middle;\n",
       "    }\n",
       "\n",
       "    .dataframe tbody tr th {\n",
       "        vertical-align: top;\n",
       "    }\n",
       "\n",
       "    .dataframe thead th {\n",
       "        text-align: right;\n",
       "    }\n",
       "</style>\n",
       "<table border=\"1\" class=\"dataframe\">\n",
       "  <thead>\n",
       "    <tr style=\"text-align: right;\">\n",
       "      <th></th>\n",
       "      <th>Unnamed: 0</th>\n",
       "      <th>Ticker Symbol</th>\n",
       "      <th>Period Ending</th>\n",
       "      <th>Accounts Payable</th>\n",
       "      <th>Accounts Receivable</th>\n",
       "      <th>Add'l income/expense items</th>\n",
       "      <th>After Tax ROE</th>\n",
       "      <th>Capital Expenditures</th>\n",
       "      <th>Capital Surplus</th>\n",
       "      <th>Cash Ratio</th>\n",
       "      <th>...</th>\n",
       "      <th>Total Current Assets</th>\n",
       "      <th>Total Current Liabilities</th>\n",
       "      <th>Total Equity</th>\n",
       "      <th>Total Liabilities</th>\n",
       "      <th>Total Liabilities &amp; Equity</th>\n",
       "      <th>Total Revenue</th>\n",
       "      <th>Treasury Stock</th>\n",
       "      <th>For Year</th>\n",
       "      <th>Earnings Per Share</th>\n",
       "      <th>Estimated Shares Outstanding</th>\n",
       "    </tr>\n",
       "  </thead>\n",
       "  <tbody>\n",
       "    <tr>\n",
       "      <th>27</th>\n",
       "      <td>27</td>\n",
       "      <td>ADBE</td>\n",
       "      <td>2016-12-02</td>\n",
       "      <td>8.660160e+08</td>\n",
       "      <td>-160416000.0</td>\n",
       "      <td>11978000.0</td>\n",
       "      <td>16.0</td>\n",
       "      <td>-203805000.0</td>\n",
       "      <td>4.616331e+09</td>\n",
       "      <td>169.0</td>\n",
       "      <td>...</td>\n",
       "      <td>5.839774e+09</td>\n",
       "      <td>2.811635e+09</td>\n",
       "      <td>7.424835e+09</td>\n",
       "      <td>5.282279e+09</td>\n",
       "      <td>1.270711e+10</td>\n",
       "      <td>5.854430e+09</td>\n",
       "      <td>-5.132472e+09</td>\n",
       "      <td>NaN</td>\n",
       "      <td>NaN</td>\n",
       "      <td>NaN</td>\n",
       "    </tr>\n",
       "    <tr>\n",
       "      <th>67</th>\n",
       "      <td>67</td>\n",
       "      <td>AIZ</td>\n",
       "      <td>2016-12-31</td>\n",
       "      <td>2.080962e+09</td>\n",
       "      <td>9275000.0</td>\n",
       "      <td>-23031000.0</td>\n",
       "      <td>14.0</td>\n",
       "      <td>-85233000.0</td>\n",
       "      <td>3.175867e+09</td>\n",
       "      <td>NaN</td>\n",
       "      <td>...</td>\n",
       "      <td>0.000000e+00</td>\n",
       "      <td>0.000000e+00</td>\n",
       "      <td>4.098100e+09</td>\n",
       "      <td>2.561103e+10</td>\n",
       "      <td>2.970913e+10</td>\n",
       "      <td>7.531780e+09</td>\n",
       "      <td>-4.470551e+09</td>\n",
       "      <td>NaN</td>\n",
       "      <td>NaN</td>\n",
       "      <td>NaN</td>\n",
       "    </tr>\n",
       "    <tr>\n",
       "      <th>71</th>\n",
       "      <td>71</td>\n",
       "      <td>AJG</td>\n",
       "      <td>2016-12-31</td>\n",
       "      <td>3.768200e+09</td>\n",
       "      <td>-240000000.0</td>\n",
       "      <td>0.0</td>\n",
       "      <td>12.0</td>\n",
       "      <td>-217800000.0</td>\n",
       "      <td>3.265500e+09</td>\n",
       "      <td>NaN</td>\n",
       "      <td>...</td>\n",
       "      <td>0.000000e+00</td>\n",
       "      <td>0.000000e+00</td>\n",
       "      <td>3.596600e+09</td>\n",
       "      <td>7.893000e+09</td>\n",
       "      <td>1.148960e+10</td>\n",
       "      <td>5.594800e+09</td>\n",
       "      <td>0.000000e+00</td>\n",
       "      <td>NaN</td>\n",
       "      <td>NaN</td>\n",
       "      <td>NaN</td>\n",
       "    </tr>\n",
       "    <tr>\n",
       "      <th>91</th>\n",
       "      <td>91</td>\n",
       "      <td>ALLE</td>\n",
       "      <td>2016-12-31</td>\n",
       "      <td>3.814000e+08</td>\n",
       "      <td>-19800000.0</td>\n",
       "      <td>-66200000.0</td>\n",
       "      <td>202.0</td>\n",
       "      <td>-42500000.0</td>\n",
       "      <td>0.000000e+00</td>\n",
       "      <td>73.0</td>\n",
       "      <td>...</td>\n",
       "      <td>8.293000e+08</td>\n",
       "      <td>4.296000e+08</td>\n",
       "      <td>1.133000e+08</td>\n",
       "      <td>2.134100e+09</td>\n",
       "      <td>2.247400e+09</td>\n",
       "      <td>2.238000e+09</td>\n",
       "      <td>0.000000e+00</td>\n",
       "      <td>NaN</td>\n",
       "      <td>NaN</td>\n",
       "      <td>NaN</td>\n",
       "    </tr>\n",
       "    <tr>\n",
       "      <th>95</th>\n",
       "      <td>95</td>\n",
       "      <td>ALXN</td>\n",
       "      <td>2016-12-31</td>\n",
       "      <td>5.720000e+08</td>\n",
       "      <td>-122000000.0</td>\n",
       "      <td>6000000.0</td>\n",
       "      <td>5.0</td>\n",
       "      <td>-333000000.0</td>\n",
       "      <td>7.957000e+09</td>\n",
       "      <td>157.0</td>\n",
       "      <td>...</td>\n",
       "      <td>2.578000e+09</td>\n",
       "      <td>8.230000e+08</td>\n",
       "      <td>8.694000e+09</td>\n",
       "      <td>4.559000e+09</td>\n",
       "      <td>1.325300e+10</td>\n",
       "      <td>3.084000e+09</td>\n",
       "      <td>-1.141000e+09</td>\n",
       "      <td>NaN</td>\n",
       "      <td>NaN</td>\n",
       "      <td>NaN</td>\n",
       "    </tr>\n",
       "  </tbody>\n",
       "</table>\n",
       "<p>5 rows × 79 columns</p>\n",
       "</div>"
      ],
      "text/plain": [
       "    Unnamed: 0 Ticker Symbol Period Ending  Accounts Payable  \\\n",
       "27          27          ADBE    2016-12-02      8.660160e+08   \n",
       "67          67           AIZ    2016-12-31      2.080962e+09   \n",
       "71          71           AJG    2016-12-31      3.768200e+09   \n",
       "91          91          ALLE    2016-12-31      3.814000e+08   \n",
       "95          95          ALXN    2016-12-31      5.720000e+08   \n",
       "\n",
       "    Accounts Receivable  Add'l income/expense items  After Tax ROE  \\\n",
       "27         -160416000.0                  11978000.0           16.0   \n",
       "67            9275000.0                 -23031000.0           14.0   \n",
       "71         -240000000.0                         0.0           12.0   \n",
       "91          -19800000.0                 -66200000.0          202.0   \n",
       "95         -122000000.0                   6000000.0            5.0   \n",
       "\n",
       "    Capital Expenditures  Capital Surplus  Cash Ratio  ...  \\\n",
       "27          -203805000.0     4.616331e+09       169.0  ...   \n",
       "67           -85233000.0     3.175867e+09         NaN  ...   \n",
       "71          -217800000.0     3.265500e+09         NaN  ...   \n",
       "91           -42500000.0     0.000000e+00        73.0  ...   \n",
       "95          -333000000.0     7.957000e+09       157.0  ...   \n",
       "\n",
       "    Total Current Assets  Total Current Liabilities  Total Equity  \\\n",
       "27          5.839774e+09               2.811635e+09  7.424835e+09   \n",
       "67          0.000000e+00               0.000000e+00  4.098100e+09   \n",
       "71          0.000000e+00               0.000000e+00  3.596600e+09   \n",
       "91          8.293000e+08               4.296000e+08  1.133000e+08   \n",
       "95          2.578000e+09               8.230000e+08  8.694000e+09   \n",
       "\n",
       "    Total Liabilities  Total Liabilities & Equity  Total Revenue  \\\n",
       "27       5.282279e+09                1.270711e+10   5.854430e+09   \n",
       "67       2.561103e+10                2.970913e+10   7.531780e+09   \n",
       "71       7.893000e+09                1.148960e+10   5.594800e+09   \n",
       "91       2.134100e+09                2.247400e+09   2.238000e+09   \n",
       "95       4.559000e+09                1.325300e+10   3.084000e+09   \n",
       "\n",
       "    Treasury Stock  For Year  Earnings Per Share  Estimated Shares Outstanding  \n",
       "27   -5.132472e+09       NaN                 NaN                           NaN  \n",
       "67   -4.470551e+09       NaN                 NaN                           NaN  \n",
       "71    0.000000e+00       NaN                 NaN                           NaN  \n",
       "91    0.000000e+00       NaN                 NaN                           NaN  \n",
       "95   -1.141000e+09       NaN                 NaN                           NaN  \n",
       "\n",
       "[5 rows x 79 columns]"
      ]
     },
     "execution_count": 8,
     "metadata": {},
     "output_type": "execute_result"
    }
   ],
   "source": [
    "# check\n",
    "filtered_fundamentals.head()"
   ]
  },
  {
   "cell_type": "code",
   "execution_count": 9,
   "metadata": {
    "colab": {
     "base_uri": "https://localhost:8080/"
    },
    "id": "e2Ox-Vlrjq7t",
    "outputId": "c08a703e-95f0-4669-9b2e-4ca33c7fa42f"
   },
   "outputs": [
    {
     "data": {
      "text/plain": [
       "2016-12-31    97\n",
       "2016-12-02     1\n",
       "2016-12-30     1\n",
       "Name: Period Ending, dtype: int64"
      ]
     },
     "execution_count": 9,
     "metadata": {},
     "output_type": "execute_result"
    }
   ],
   "source": [
    "# check #2\n",
    "filtered_fundamentals['Period Ending'].value_counts()"
   ]
  },
  {
   "cell_type": "code",
   "execution_count": 10,
   "metadata": {
    "colab": {
     "base_uri": "https://localhost:8080/"
    },
    "id": "IQ6n1K0Dl-51",
    "outputId": "a106facb-16aa-4b3b-dbd5-142bab27601d"
   },
   "outputs": [
    {
     "name": "stdout",
     "output_type": "stream",
     "text": [
      "<class 'pandas.core.frame.DataFrame'>\n",
      "Int64Index: 99 entries, 27 to 1780\n",
      "Data columns (total 79 columns):\n",
      " #   Column                                               Non-Null Count  Dtype         \n",
      "---  ------                                               --------------  -----         \n",
      " 0   Unnamed: 0                                           99 non-null     int64         \n",
      " 1   Ticker Symbol                                        99 non-null     object        \n",
      " 2   Period Ending                                        99 non-null     datetime64[ns]\n",
      " 3   Accounts Payable                                     99 non-null     float64       \n",
      " 4   Accounts Receivable                                  99 non-null     float64       \n",
      " 5   Add'l income/expense items                           99 non-null     float64       \n",
      " 6   After Tax ROE                                        99 non-null     float64       \n",
      " 7   Capital Expenditures                                 99 non-null     float64       \n",
      " 8   Capital Surplus                                      99 non-null     float64       \n",
      " 9   Cash Ratio                                           86 non-null     float64       \n",
      " 10  Cash and Cash Equivalents                            99 non-null     float64       \n",
      " 11  Changes in Inventories                               99 non-null     float64       \n",
      " 12  Common Stocks                                        99 non-null     float64       \n",
      " 13  Cost of Revenue                                      99 non-null     float64       \n",
      " 14  Current Ratio                                        86 non-null     float64       \n",
      " 15  Deferred Asset Charges                               99 non-null     float64       \n",
      " 16  Deferred Liability Charges                           99 non-null     float64       \n",
      " 17  Depreciation                                         99 non-null     float64       \n",
      " 18  Earnings Before Interest and Tax                     99 non-null     float64       \n",
      " 19  Earnings Before Tax                                  99 non-null     float64       \n",
      " 20  Effect of Exchange Rate                              99 non-null     float64       \n",
      " 21  Equity Earnings/Loss Unconsolidated Subsidiary       99 non-null     float64       \n",
      " 22  Fixed Assets                                         99 non-null     float64       \n",
      " 23  Goodwill                                             99 non-null     float64       \n",
      " 24  Gross Margin                                         99 non-null     float64       \n",
      " 25  Gross Profit                                         99 non-null     float64       \n",
      " 26  Income Tax                                           99 non-null     float64       \n",
      " 27  Intangible Assets                                    99 non-null     float64       \n",
      " 28  Interest Expense                                     99 non-null     float64       \n",
      " 29  Inventory                                            99 non-null     float64       \n",
      " 30  Investments                                          99 non-null     float64       \n",
      " 31  Liabilities                                          99 non-null     float64       \n",
      " 32  Long-Term Debt                                       99 non-null     float64       \n",
      " 33  Long-Term Investments                                99 non-null     float64       \n",
      " 34  Minority Interest                                    99 non-null     float64       \n",
      " 35  Misc. Stocks                                         99 non-null     float64       \n",
      " 36  Net Borrowings                                       99 non-null     float64       \n",
      " 37  Net Cash Flow                                        99 non-null     float64       \n",
      " 38  Net Cash Flow-Operating                              99 non-null     float64       \n",
      " 39  Net Cash Flows-Financing                             99 non-null     float64       \n",
      " 40  Net Cash Flows-Investing                             99 non-null     float64       \n",
      " 41  Net Income                                           99 non-null     float64       \n",
      " 42  Net Income Adjustments                               99 non-null     float64       \n",
      " 43  Net Income Applicable to Common Shareholders         99 non-null     float64       \n",
      " 44  Net Income-Cont. Operations                          99 non-null     float64       \n",
      " 45  Net Receivables                                      99 non-null     float64       \n",
      " 46  Non-Recurring Items                                  99 non-null     float64       \n",
      " 47  Operating Income                                     99 non-null     float64       \n",
      " 48  Operating Margin                                     99 non-null     float64       \n",
      " 49  Other Assets                                         99 non-null     float64       \n",
      " 50  Other Current Assets                                 99 non-null     float64       \n",
      " 51  Other Current Liabilities                            99 non-null     float64       \n",
      " 52  Other Equity                                         99 non-null     float64       \n",
      " 53  Other Financing Activities                           99 non-null     float64       \n",
      " 54  Other Investing Activities                           99 non-null     float64       \n",
      " 55  Other Liabilities                                    99 non-null     float64       \n",
      " 56  Other Operating Activities                           99 non-null     float64       \n",
      " 57  Other Operating Items                                99 non-null     float64       \n",
      " 58  Pre-Tax Margin                                       99 non-null     float64       \n",
      " 59  Pre-Tax ROE                                          99 non-null     float64       \n",
      " 60  Profit Margin                                        99 non-null     float64       \n",
      " 61  Quick Ratio                                          86 non-null     float64       \n",
      " 62  Research and Development                             99 non-null     float64       \n",
      " 63  Retained Earnings                                    99 non-null     float64       \n",
      " 64  Sale and Purchase of Stock                           99 non-null     float64       \n",
      " 65  Sales, General and Admin.                            99 non-null     float64       \n",
      " 66  Short-Term Debt / Current Portion of Long-Term Debt  99 non-null     float64       \n",
      " 67  Short-Term Investments                               99 non-null     float64       \n",
      " 68  Total Assets                                         99 non-null     float64       \n",
      " 69  Total Current Assets                                 99 non-null     float64       \n",
      " 70  Total Current Liabilities                            99 non-null     float64       \n",
      " 71  Total Equity                                         99 non-null     float64       \n",
      " 72  Total Liabilities                                    99 non-null     float64       \n",
      " 73  Total Liabilities & Equity                           99 non-null     float64       \n",
      " 74  Total Revenue                                        99 non-null     float64       \n",
      " 75  Treasury Stock                                       99 non-null     float64       \n",
      " 76  For Year                                             0 non-null      float64       \n",
      " 77  Earnings Per Share                                   0 non-null      float64       \n",
      " 78  Estimated Shares Outstanding                         0 non-null      float64       \n",
      "dtypes: datetime64[ns](1), float64(76), int64(1), object(1)\n",
      "memory usage: 61.9+ KB\n"
     ]
    }
   ],
   "source": [
    "# check 3\n",
    "filtered_fundamentals.info()"
   ]
  },
  {
   "cell_type": "code",
   "execution_count": 11,
   "metadata": {
    "colab": {
     "base_uri": "https://localhost:8080/"
    },
    "id": "eO2yemL-hAs9",
    "outputId": "64d40b51-c51d-4125-c408-dad389c7b2a2"
   },
   "outputs": [
    {
     "data": {
      "text/plain": [
       "ADBE     1\n",
       "PG       1\n",
       "PEP      1\n",
       "PCG      1\n",
       "OMC      1\n",
       "        ..\n",
       "DOV      1\n",
       "DLPH     1\n",
       "DISCK    1\n",
       "DISCA    1\n",
       "ZTS      1\n",
       "Name: Ticker Symbol, Length: 99, dtype: int64"
      ]
     },
     "execution_count": 11,
     "metadata": {},
     "output_type": "execute_result"
    }
   ],
   "source": [
    "# check 4\n",
    "# we have 99 different stocks\n",
    "filtered_fundamentals['Ticker Symbol'].value_counts()"
   ]
  },
  {
   "cell_type": "code",
   "execution_count": 12,
   "metadata": {
    "colab": {
     "base_uri": "https://localhost:8080/"
    },
    "id": "Om6yb7-373Oe",
    "outputId": "cfd11d6c-313a-4a81-a30a-b2a298dfe7e6"
   },
   "outputs": [
    {
     "name": "stderr",
     "output_type": "stream",
     "text": [
      "C:\\Users\\Beibarys Nyussupov\\AppData\\Local\\Temp\\ipykernel_29876\\3553506990.py:3: SettingWithCopyWarning: \n",
      "A value is trying to be set on a copy of a slice from a DataFrame\n",
      "\n",
      "See the caveats in the documentation: https://pandas.pydata.org/pandas-docs/stable/user_guide/indexing.html#returning-a-view-versus-a-copy\n",
      "  filtered_fundamentals.drop(columns = ['Unnamed: 0', 'Period Ending'], axis = 1, inplace = True)\n"
     ]
    }
   ],
   "source": [
    "# drop uneccesary columns\n",
    "## Unnamed column\n",
    "filtered_fundamentals.drop(columns = ['Unnamed: 0', 'Period Ending'], axis = 1, inplace = True)"
   ]
  },
  {
   "cell_type": "code",
   "execution_count": 13,
   "metadata": {
    "colab": {
     "base_uri": "https://localhost:8080/"
    },
    "id": "ZzqweDLZ8mhZ",
    "outputId": "f7f3ff62-90be-4931-801c-0b8465730e64"
   },
   "outputs": [
    {
     "name": "stdout",
     "output_type": "stream",
     "text": [
      "<class 'pandas.core.frame.DataFrame'>\n",
      "Int64Index: 99 entries, 27 to 1780\n",
      "Data columns (total 77 columns):\n",
      " #   Column                                               Non-Null Count  Dtype  \n",
      "---  ------                                               --------------  -----  \n",
      " 0   Ticker Symbol                                        99 non-null     object \n",
      " 1   Accounts Payable                                     99 non-null     float64\n",
      " 2   Accounts Receivable                                  99 non-null     float64\n",
      " 3   Add'l income/expense items                           99 non-null     float64\n",
      " 4   After Tax ROE                                        99 non-null     float64\n",
      " 5   Capital Expenditures                                 99 non-null     float64\n",
      " 6   Capital Surplus                                      99 non-null     float64\n",
      " 7   Cash Ratio                                           86 non-null     float64\n",
      " 8   Cash and Cash Equivalents                            99 non-null     float64\n",
      " 9   Changes in Inventories                               99 non-null     float64\n",
      " 10  Common Stocks                                        99 non-null     float64\n",
      " 11  Cost of Revenue                                      99 non-null     float64\n",
      " 12  Current Ratio                                        86 non-null     float64\n",
      " 13  Deferred Asset Charges                               99 non-null     float64\n",
      " 14  Deferred Liability Charges                           99 non-null     float64\n",
      " 15  Depreciation                                         99 non-null     float64\n",
      " 16  Earnings Before Interest and Tax                     99 non-null     float64\n",
      " 17  Earnings Before Tax                                  99 non-null     float64\n",
      " 18  Effect of Exchange Rate                              99 non-null     float64\n",
      " 19  Equity Earnings/Loss Unconsolidated Subsidiary       99 non-null     float64\n",
      " 20  Fixed Assets                                         99 non-null     float64\n",
      " 21  Goodwill                                             99 non-null     float64\n",
      " 22  Gross Margin                                         99 non-null     float64\n",
      " 23  Gross Profit                                         99 non-null     float64\n",
      " 24  Income Tax                                           99 non-null     float64\n",
      " 25  Intangible Assets                                    99 non-null     float64\n",
      " 26  Interest Expense                                     99 non-null     float64\n",
      " 27  Inventory                                            99 non-null     float64\n",
      " 28  Investments                                          99 non-null     float64\n",
      " 29  Liabilities                                          99 non-null     float64\n",
      " 30  Long-Term Debt                                       99 non-null     float64\n",
      " 31  Long-Term Investments                                99 non-null     float64\n",
      " 32  Minority Interest                                    99 non-null     float64\n",
      " 33  Misc. Stocks                                         99 non-null     float64\n",
      " 34  Net Borrowings                                       99 non-null     float64\n",
      " 35  Net Cash Flow                                        99 non-null     float64\n",
      " 36  Net Cash Flow-Operating                              99 non-null     float64\n",
      " 37  Net Cash Flows-Financing                             99 non-null     float64\n",
      " 38  Net Cash Flows-Investing                             99 non-null     float64\n",
      " 39  Net Income                                           99 non-null     float64\n",
      " 40  Net Income Adjustments                               99 non-null     float64\n",
      " 41  Net Income Applicable to Common Shareholders         99 non-null     float64\n",
      " 42  Net Income-Cont. Operations                          99 non-null     float64\n",
      " 43  Net Receivables                                      99 non-null     float64\n",
      " 44  Non-Recurring Items                                  99 non-null     float64\n",
      " 45  Operating Income                                     99 non-null     float64\n",
      " 46  Operating Margin                                     99 non-null     float64\n",
      " 47  Other Assets                                         99 non-null     float64\n",
      " 48  Other Current Assets                                 99 non-null     float64\n",
      " 49  Other Current Liabilities                            99 non-null     float64\n",
      " 50  Other Equity                                         99 non-null     float64\n",
      " 51  Other Financing Activities                           99 non-null     float64\n",
      " 52  Other Investing Activities                           99 non-null     float64\n",
      " 53  Other Liabilities                                    99 non-null     float64\n",
      " 54  Other Operating Activities                           99 non-null     float64\n",
      " 55  Other Operating Items                                99 non-null     float64\n",
      " 56  Pre-Tax Margin                                       99 non-null     float64\n",
      " 57  Pre-Tax ROE                                          99 non-null     float64\n",
      " 58  Profit Margin                                        99 non-null     float64\n",
      " 59  Quick Ratio                                          86 non-null     float64\n",
      " 60  Research and Development                             99 non-null     float64\n",
      " 61  Retained Earnings                                    99 non-null     float64\n",
      " 62  Sale and Purchase of Stock                           99 non-null     float64\n",
      " 63  Sales, General and Admin.                            99 non-null     float64\n",
      " 64  Short-Term Debt / Current Portion of Long-Term Debt  99 non-null     float64\n",
      " 65  Short-Term Investments                               99 non-null     float64\n",
      " 66  Total Assets                                         99 non-null     float64\n",
      " 67  Total Current Assets                                 99 non-null     float64\n",
      " 68  Total Current Liabilities                            99 non-null     float64\n",
      " 69  Total Equity                                         99 non-null     float64\n",
      " 70  Total Liabilities                                    99 non-null     float64\n",
      " 71  Total Liabilities & Equity                           99 non-null     float64\n",
      " 72  Total Revenue                                        99 non-null     float64\n",
      " 73  Treasury Stock                                       99 non-null     float64\n",
      " 74  For Year                                             0 non-null      float64\n",
      " 75  Earnings Per Share                                   0 non-null      float64\n",
      " 76  Estimated Shares Outstanding                         0 non-null      float64\n",
      "dtypes: float64(76), object(1)\n",
      "memory usage: 60.3+ KB\n"
     ]
    }
   ],
   "source": [
    "# check\n",
    "# first few rows of the data\n",
    "filtered_fundamentals.info()"
   ]
  },
  {
   "cell_type": "markdown",
   "metadata": {
    "id": "csqc6JcC9c8J"
   },
   "source": [
    "There is also `Ticker Symbol` column that I need to manage in order to properly apply PCA as PCA should be used on numerical values.\n",
    "\n",
    "Another important step is to remove null values in `CurrentRation` column, I am going to replace all null values with 0."
   ]
  },
  {
   "cell_type": "code",
   "execution_count": 14,
   "metadata": {
    "id": "HuribHIB90NV"
   },
   "outputs": [],
   "source": [
    "# make ticker symbols column as an index\n",
    "filtered_fundamentals = filtered_fundamentals.set_index(['Ticker Symbol'])\n",
    "# transform everything to numeric datatype\n",
    "filtered_fundamentals = filtered_fundamentals.apply(pd.to_numeric, errors = 'coerce')\n",
    "# fill null values with 0 in dataframe\n",
    "filtered_fundamentals = filtered_fundamentals.fillna(0)"
   ]
  },
  {
   "cell_type": "code",
   "execution_count": 15,
   "metadata": {
    "colab": {
     "base_uri": "https://localhost:8080/"
    },
    "id": "Rgn6MJb990Kv",
    "outputId": "e4b542a9-7f82-4da1-a5b5-42ffc4f66caa"
   },
   "outputs": [
    {
     "data": {
      "text/plain": [
       "Accounts Payable                0\n",
       "Accounts Receivable             0\n",
       "Add'l income/expense items      0\n",
       "After Tax ROE                   0\n",
       "Capital Expenditures            0\n",
       "                               ..\n",
       "Total Revenue                   0\n",
       "Treasury Stock                  0\n",
       "For Year                        0\n",
       "Earnings Per Share              0\n",
       "Estimated Shares Outstanding    0\n",
       "Length: 76, dtype: int64"
      ]
     },
     "execution_count": 15,
     "metadata": {},
     "output_type": "execute_result"
    }
   ],
   "source": [
    "# check number of na rows\n",
    "filtered_fundamentals.isnull().sum()\n",
    "# there are no null values anymore"
   ]
  },
  {
   "cell_type": "code",
   "execution_count": 16,
   "metadata": {
    "colab": {
     "base_uri": "https://localhost:8080/"
    },
    "id": "bXtm5E5a9zjI",
    "outputId": "fd78abf5-e0ab-4a25-d93e-f61ee836f828"
   },
   "outputs": [
    {
     "name": "stdout",
     "output_type": "stream",
     "text": [
      "<class 'pandas.core.frame.DataFrame'>\n",
      "Index: 99 entries, ADBE to ZTS\n",
      "Data columns (total 76 columns):\n",
      " #   Column                                               Non-Null Count  Dtype  \n",
      "---  ------                                               --------------  -----  \n",
      " 0   Accounts Payable                                     99 non-null     float64\n",
      " 1   Accounts Receivable                                  99 non-null     float64\n",
      " 2   Add'l income/expense items                           99 non-null     float64\n",
      " 3   After Tax ROE                                        99 non-null     float64\n",
      " 4   Capital Expenditures                                 99 non-null     float64\n",
      " 5   Capital Surplus                                      99 non-null     float64\n",
      " 6   Cash Ratio                                           99 non-null     float64\n",
      " 7   Cash and Cash Equivalents                            99 non-null     float64\n",
      " 8   Changes in Inventories                               99 non-null     float64\n",
      " 9   Common Stocks                                        99 non-null     float64\n",
      " 10  Cost of Revenue                                      99 non-null     float64\n",
      " 11  Current Ratio                                        99 non-null     float64\n",
      " 12  Deferred Asset Charges                               99 non-null     float64\n",
      " 13  Deferred Liability Charges                           99 non-null     float64\n",
      " 14  Depreciation                                         99 non-null     float64\n",
      " 15  Earnings Before Interest and Tax                     99 non-null     float64\n",
      " 16  Earnings Before Tax                                  99 non-null     float64\n",
      " 17  Effect of Exchange Rate                              99 non-null     float64\n",
      " 18  Equity Earnings/Loss Unconsolidated Subsidiary       99 non-null     float64\n",
      " 19  Fixed Assets                                         99 non-null     float64\n",
      " 20  Goodwill                                             99 non-null     float64\n",
      " 21  Gross Margin                                         99 non-null     float64\n",
      " 22  Gross Profit                                         99 non-null     float64\n",
      " 23  Income Tax                                           99 non-null     float64\n",
      " 24  Intangible Assets                                    99 non-null     float64\n",
      " 25  Interest Expense                                     99 non-null     float64\n",
      " 26  Inventory                                            99 non-null     float64\n",
      " 27  Investments                                          99 non-null     float64\n",
      " 28  Liabilities                                          99 non-null     float64\n",
      " 29  Long-Term Debt                                       99 non-null     float64\n",
      " 30  Long-Term Investments                                99 non-null     float64\n",
      " 31  Minority Interest                                    99 non-null     float64\n",
      " 32  Misc. Stocks                                         99 non-null     float64\n",
      " 33  Net Borrowings                                       99 non-null     float64\n",
      " 34  Net Cash Flow                                        99 non-null     float64\n",
      " 35  Net Cash Flow-Operating                              99 non-null     float64\n",
      " 36  Net Cash Flows-Financing                             99 non-null     float64\n",
      " 37  Net Cash Flows-Investing                             99 non-null     float64\n",
      " 38  Net Income                                           99 non-null     float64\n",
      " 39  Net Income Adjustments                               99 non-null     float64\n",
      " 40  Net Income Applicable to Common Shareholders         99 non-null     float64\n",
      " 41  Net Income-Cont. Operations                          99 non-null     float64\n",
      " 42  Net Receivables                                      99 non-null     float64\n",
      " 43  Non-Recurring Items                                  99 non-null     float64\n",
      " 44  Operating Income                                     99 non-null     float64\n",
      " 45  Operating Margin                                     99 non-null     float64\n",
      " 46  Other Assets                                         99 non-null     float64\n",
      " 47  Other Current Assets                                 99 non-null     float64\n",
      " 48  Other Current Liabilities                            99 non-null     float64\n",
      " 49  Other Equity                                         99 non-null     float64\n",
      " 50  Other Financing Activities                           99 non-null     float64\n",
      " 51  Other Investing Activities                           99 non-null     float64\n",
      " 52  Other Liabilities                                    99 non-null     float64\n",
      " 53  Other Operating Activities                           99 non-null     float64\n",
      " 54  Other Operating Items                                99 non-null     float64\n",
      " 55  Pre-Tax Margin                                       99 non-null     float64\n",
      " 56  Pre-Tax ROE                                          99 non-null     float64\n",
      " 57  Profit Margin                                        99 non-null     float64\n",
      " 58  Quick Ratio                                          99 non-null     float64\n",
      " 59  Research and Development                             99 non-null     float64\n",
      " 60  Retained Earnings                                    99 non-null     float64\n",
      " 61  Sale and Purchase of Stock                           99 non-null     float64\n",
      " 62  Sales, General and Admin.                            99 non-null     float64\n",
      " 63  Short-Term Debt / Current Portion of Long-Term Debt  99 non-null     float64\n",
      " 64  Short-Term Investments                               99 non-null     float64\n",
      " 65  Total Assets                                         99 non-null     float64\n",
      " 66  Total Current Assets                                 99 non-null     float64\n",
      " 67  Total Current Liabilities                            99 non-null     float64\n",
      " 68  Total Equity                                         99 non-null     float64\n",
      " 69  Total Liabilities                                    99 non-null     float64\n",
      " 70  Total Liabilities & Equity                           99 non-null     float64\n",
      " 71  Total Revenue                                        99 non-null     float64\n",
      " 72  Treasury Stock                                       99 non-null     float64\n",
      " 73  For Year                                             99 non-null     float64\n",
      " 74  Earnings Per Share                                   99 non-null     float64\n",
      " 75  Estimated Shares Outstanding                         99 non-null     float64\n",
      "dtypes: float64(76)\n",
      "memory usage: 59.6+ KB\n"
     ]
    }
   ],
   "source": [
    "# check datatypes\n",
    "filtered_fundamentals.info()"
   ]
  },
  {
   "cell_type": "code",
   "execution_count": 17,
   "metadata": {
    "colab": {
     "base_uri": "https://localhost:8080/",
     "height": 339
    },
    "id": "MYYlZmIv-59c",
    "outputId": "93cb59db-ebde-4f4d-f3ae-bb1d7004a952"
   },
   "outputs": [
    {
     "data": {
      "text/html": [
       "<div>\n",
       "<style scoped>\n",
       "    .dataframe tbody tr th:only-of-type {\n",
       "        vertical-align: middle;\n",
       "    }\n",
       "\n",
       "    .dataframe tbody tr th {\n",
       "        vertical-align: top;\n",
       "    }\n",
       "\n",
       "    .dataframe thead th {\n",
       "        text-align: right;\n",
       "    }\n",
       "</style>\n",
       "<table border=\"1\" class=\"dataframe\">\n",
       "  <thead>\n",
       "    <tr style=\"text-align: right;\">\n",
       "      <th></th>\n",
       "      <th>Accounts Payable</th>\n",
       "      <th>Accounts Receivable</th>\n",
       "      <th>Add'l income/expense items</th>\n",
       "      <th>After Tax ROE</th>\n",
       "      <th>Capital Expenditures</th>\n",
       "      <th>Capital Surplus</th>\n",
       "      <th>Cash Ratio</th>\n",
       "      <th>Cash and Cash Equivalents</th>\n",
       "      <th>Changes in Inventories</th>\n",
       "      <th>Common Stocks</th>\n",
       "      <th>...</th>\n",
       "      <th>Total Current Assets</th>\n",
       "      <th>Total Current Liabilities</th>\n",
       "      <th>Total Equity</th>\n",
       "      <th>Total Liabilities</th>\n",
       "      <th>Total Liabilities &amp; Equity</th>\n",
       "      <th>Total Revenue</th>\n",
       "      <th>Treasury Stock</th>\n",
       "      <th>For Year</th>\n",
       "      <th>Earnings Per Share</th>\n",
       "      <th>Estimated Shares Outstanding</th>\n",
       "    </tr>\n",
       "    <tr>\n",
       "      <th>Ticker Symbol</th>\n",
       "      <th></th>\n",
       "      <th></th>\n",
       "      <th></th>\n",
       "      <th></th>\n",
       "      <th></th>\n",
       "      <th></th>\n",
       "      <th></th>\n",
       "      <th></th>\n",
       "      <th></th>\n",
       "      <th></th>\n",
       "      <th></th>\n",
       "      <th></th>\n",
       "      <th></th>\n",
       "      <th></th>\n",
       "      <th></th>\n",
       "      <th></th>\n",
       "      <th></th>\n",
       "      <th></th>\n",
       "      <th></th>\n",
       "      <th></th>\n",
       "      <th></th>\n",
       "    </tr>\n",
       "  </thead>\n",
       "  <tbody>\n",
       "    <tr>\n",
       "      <th>ADBE</th>\n",
       "      <td>8.660160e+08</td>\n",
       "      <td>-160416000.0</td>\n",
       "      <td>11978000.0</td>\n",
       "      <td>16.0</td>\n",
       "      <td>-203805000.0</td>\n",
       "      <td>4.616331e+09</td>\n",
       "      <td>169.0</td>\n",
       "      <td>1.011315e+09</td>\n",
       "      <td>0.0</td>\n",
       "      <td>61000.0</td>\n",
       "      <td>...</td>\n",
       "      <td>5.839774e+09</td>\n",
       "      <td>2.811635e+09</td>\n",
       "      <td>7.424835e+09</td>\n",
       "      <td>5.282279e+09</td>\n",
       "      <td>1.270711e+10</td>\n",
       "      <td>5.854430e+09</td>\n",
       "      <td>-5.132472e+09</td>\n",
       "      <td>0.0</td>\n",
       "      <td>0.0</td>\n",
       "      <td>0.0</td>\n",
       "    </tr>\n",
       "    <tr>\n",
       "      <th>AIZ</th>\n",
       "      <td>2.080962e+09</td>\n",
       "      <td>9275000.0</td>\n",
       "      <td>-23031000.0</td>\n",
       "      <td>14.0</td>\n",
       "      <td>-85233000.0</td>\n",
       "      <td>3.175867e+09</td>\n",
       "      <td>0.0</td>\n",
       "      <td>1.031971e+09</td>\n",
       "      <td>4579000.0</td>\n",
       "      <td>1504000.0</td>\n",
       "      <td>...</td>\n",
       "      <td>0.000000e+00</td>\n",
       "      <td>0.000000e+00</td>\n",
       "      <td>4.098100e+09</td>\n",
       "      <td>2.561103e+10</td>\n",
       "      <td>2.970913e+10</td>\n",
       "      <td>7.531780e+09</td>\n",
       "      <td>-4.470551e+09</td>\n",
       "      <td>0.0</td>\n",
       "      <td>0.0</td>\n",
       "      <td>0.0</td>\n",
       "    </tr>\n",
       "    <tr>\n",
       "      <th>AJG</th>\n",
       "      <td>3.768200e+09</td>\n",
       "      <td>-240000000.0</td>\n",
       "      <td>0.0</td>\n",
       "      <td>12.0</td>\n",
       "      <td>-217800000.0</td>\n",
       "      <td>3.265500e+09</td>\n",
       "      <td>0.0</td>\n",
       "      <td>1.937600e+09</td>\n",
       "      <td>0.0</td>\n",
       "      <td>178300000.0</td>\n",
       "      <td>...</td>\n",
       "      <td>0.000000e+00</td>\n",
       "      <td>0.000000e+00</td>\n",
       "      <td>3.596600e+09</td>\n",
       "      <td>7.893000e+09</td>\n",
       "      <td>1.148960e+10</td>\n",
       "      <td>5.594800e+09</td>\n",
       "      <td>0.000000e+00</td>\n",
       "      <td>0.0</td>\n",
       "      <td>0.0</td>\n",
       "      <td>0.0</td>\n",
       "    </tr>\n",
       "    <tr>\n",
       "      <th>ALLE</th>\n",
       "      <td>3.814000e+08</td>\n",
       "      <td>-19800000.0</td>\n",
       "      <td>-66200000.0</td>\n",
       "      <td>202.0</td>\n",
       "      <td>-42500000.0</td>\n",
       "      <td>0.000000e+00</td>\n",
       "      <td>73.0</td>\n",
       "      <td>3.124000e+08</td>\n",
       "      <td>-15600000.0</td>\n",
       "      <td>1000000.0</td>\n",
       "      <td>...</td>\n",
       "      <td>8.293000e+08</td>\n",
       "      <td>4.296000e+08</td>\n",
       "      <td>1.133000e+08</td>\n",
       "      <td>2.134100e+09</td>\n",
       "      <td>2.247400e+09</td>\n",
       "      <td>2.238000e+09</td>\n",
       "      <td>0.000000e+00</td>\n",
       "      <td>0.0</td>\n",
       "      <td>0.0</td>\n",
       "      <td>0.0</td>\n",
       "    </tr>\n",
       "    <tr>\n",
       "      <th>ALXN</th>\n",
       "      <td>5.720000e+08</td>\n",
       "      <td>-122000000.0</td>\n",
       "      <td>6000000.0</td>\n",
       "      <td>5.0</td>\n",
       "      <td>-333000000.0</td>\n",
       "      <td>7.957000e+09</td>\n",
       "      <td>157.0</td>\n",
       "      <td>9.660000e+08</td>\n",
       "      <td>-84000000.0</td>\n",
       "      <td>0.0</td>\n",
       "      <td>...</td>\n",
       "      <td>2.578000e+09</td>\n",
       "      <td>8.230000e+08</td>\n",
       "      <td>8.694000e+09</td>\n",
       "      <td>4.559000e+09</td>\n",
       "      <td>1.325300e+10</td>\n",
       "      <td>3.084000e+09</td>\n",
       "      <td>-1.141000e+09</td>\n",
       "      <td>0.0</td>\n",
       "      <td>0.0</td>\n",
       "      <td>0.0</td>\n",
       "    </tr>\n",
       "  </tbody>\n",
       "</table>\n",
       "<p>5 rows × 76 columns</p>\n",
       "</div>"
      ],
      "text/plain": [
       "               Accounts Payable  Accounts Receivable  \\\n",
       "Ticker Symbol                                          \n",
       "ADBE               8.660160e+08         -160416000.0   \n",
       "AIZ                2.080962e+09            9275000.0   \n",
       "AJG                3.768200e+09         -240000000.0   \n",
       "ALLE               3.814000e+08          -19800000.0   \n",
       "ALXN               5.720000e+08         -122000000.0   \n",
       "\n",
       "               Add'l income/expense items  After Tax ROE  \\\n",
       "Ticker Symbol                                              \n",
       "ADBE                           11978000.0           16.0   \n",
       "AIZ                           -23031000.0           14.0   \n",
       "AJG                                   0.0           12.0   \n",
       "ALLE                          -66200000.0          202.0   \n",
       "ALXN                            6000000.0            5.0   \n",
       "\n",
       "               Capital Expenditures  Capital Surplus  Cash Ratio  \\\n",
       "Ticker Symbol                                                      \n",
       "ADBE                   -203805000.0     4.616331e+09       169.0   \n",
       "AIZ                     -85233000.0     3.175867e+09         0.0   \n",
       "AJG                    -217800000.0     3.265500e+09         0.0   \n",
       "ALLE                    -42500000.0     0.000000e+00        73.0   \n",
       "ALXN                   -333000000.0     7.957000e+09       157.0   \n",
       "\n",
       "               Cash and Cash Equivalents  Changes in Inventories  \\\n",
       "Ticker Symbol                                                      \n",
       "ADBE                        1.011315e+09                     0.0   \n",
       "AIZ                         1.031971e+09               4579000.0   \n",
       "AJG                         1.937600e+09                     0.0   \n",
       "ALLE                        3.124000e+08             -15600000.0   \n",
       "ALXN                        9.660000e+08             -84000000.0   \n",
       "\n",
       "               Common Stocks  ...  Total Current Assets  \\\n",
       "Ticker Symbol                 ...                         \n",
       "ADBE                 61000.0  ...          5.839774e+09   \n",
       "AIZ                1504000.0  ...          0.000000e+00   \n",
       "AJG              178300000.0  ...          0.000000e+00   \n",
       "ALLE               1000000.0  ...          8.293000e+08   \n",
       "ALXN                     0.0  ...          2.578000e+09   \n",
       "\n",
       "               Total Current Liabilities  Total Equity  Total Liabilities  \\\n",
       "Ticker Symbol                                                               \n",
       "ADBE                        2.811635e+09  7.424835e+09       5.282279e+09   \n",
       "AIZ                         0.000000e+00  4.098100e+09       2.561103e+10   \n",
       "AJG                         0.000000e+00  3.596600e+09       7.893000e+09   \n",
       "ALLE                        4.296000e+08  1.133000e+08       2.134100e+09   \n",
       "ALXN                        8.230000e+08  8.694000e+09       4.559000e+09   \n",
       "\n",
       "               Total Liabilities & Equity  Total Revenue  Treasury Stock  \\\n",
       "Ticker Symbol                                                              \n",
       "ADBE                         1.270711e+10   5.854430e+09   -5.132472e+09   \n",
       "AIZ                          2.970913e+10   7.531780e+09   -4.470551e+09   \n",
       "AJG                          1.148960e+10   5.594800e+09    0.000000e+00   \n",
       "ALLE                         2.247400e+09   2.238000e+09    0.000000e+00   \n",
       "ALXN                         1.325300e+10   3.084000e+09   -1.141000e+09   \n",
       "\n",
       "               For Year  Earnings Per Share  Estimated Shares Outstanding  \n",
       "Ticker Symbol                                                              \n",
       "ADBE                0.0                 0.0                           0.0  \n",
       "AIZ                 0.0                 0.0                           0.0  \n",
       "AJG                 0.0                 0.0                           0.0  \n",
       "ALLE                0.0                 0.0                           0.0  \n",
       "ALXN                0.0                 0.0                           0.0  \n",
       "\n",
       "[5 rows x 76 columns]"
      ]
     },
     "execution_count": 17,
     "metadata": {},
     "output_type": "execute_result"
    }
   ],
   "source": [
    "# first few rows of the dataset\n",
    "filtered_fundamentals.head()"
   ]
  },
  {
   "cell_type": "markdown",
   "metadata": {
    "id": "OVGO4YDp-4EG"
   },
   "source": [
    "There are no null values in the data and all datatypes are numeric now. There are now 99 rows and 76 columns. I need to apply PCA and reduce dimensionality while capturing most of the variance in the data."
   ]
  },
  {
   "cell_type": "markdown",
   "metadata": {
    "id": "hYZuabEYmddD"
   },
   "source": [
    "## Principal Component Analysis\n",
    "Before I can apply PCA on my data, all numeric variables should be normalized for a proper analysis. That's why I am going to use a standard normalization, or z-statistic normalization for all my numeric variables."
   ]
  },
  {
   "cell_type": "code",
   "execution_count": 18,
   "metadata": {
    "id": "YDfEr4J8maMZ"
   },
   "outputs": [],
   "source": [
    "# standard scaler\n",
    "scaler = StandardScaler()\n",
    "\n",
    "# object that will have standardized variables\n",
    "fundamentals_norm = pd.DataFrame(scaler.fit_transform(filtered_fundamentals), columns = filtered_fundamentals.columns)"
   ]
  },
  {
   "cell_type": "code",
   "execution_count": 19,
   "metadata": {
    "colab": {
     "base_uri": "https://localhost:8080/",
     "height": 384
    },
    "id": "mJ_k-6xonarh",
    "outputId": "0603ecd3-5894-44ef-c5e6-880e50f91649"
   },
   "outputs": [
    {
     "data": {
      "text/html": [
       "<div>\n",
       "<style scoped>\n",
       "    .dataframe tbody tr th:only-of-type {\n",
       "        vertical-align: middle;\n",
       "    }\n",
       "\n",
       "    .dataframe tbody tr th {\n",
       "        vertical-align: top;\n",
       "    }\n",
       "\n",
       "    .dataframe thead th {\n",
       "        text-align: right;\n",
       "    }\n",
       "</style>\n",
       "<table border=\"1\" class=\"dataframe\">\n",
       "  <thead>\n",
       "    <tr style=\"text-align: right;\">\n",
       "      <th></th>\n",
       "      <th>Accounts Payable</th>\n",
       "      <th>Accounts Receivable</th>\n",
       "      <th>Add'l income/expense items</th>\n",
       "      <th>After Tax ROE</th>\n",
       "      <th>Capital Expenditures</th>\n",
       "      <th>Capital Surplus</th>\n",
       "      <th>Cash Ratio</th>\n",
       "      <th>Cash and Cash Equivalents</th>\n",
       "      <th>Changes in Inventories</th>\n",
       "      <th>Common Stocks</th>\n",
       "      <th>...</th>\n",
       "      <th>Total Current Assets</th>\n",
       "      <th>Total Current Liabilities</th>\n",
       "      <th>Total Equity</th>\n",
       "      <th>Total Liabilities</th>\n",
       "      <th>Total Liabilities &amp; Equity</th>\n",
       "      <th>Total Revenue</th>\n",
       "      <th>Treasury Stock</th>\n",
       "      <th>For Year</th>\n",
       "      <th>Earnings Per Share</th>\n",
       "      <th>Estimated Shares Outstanding</th>\n",
       "    </tr>\n",
       "  </thead>\n",
       "  <tbody>\n",
       "    <tr>\n",
       "      <th>count</th>\n",
       "      <td>9.900000e+01</td>\n",
       "      <td>9.900000e+01</td>\n",
       "      <td>9.900000e+01</td>\n",
       "      <td>9.900000e+01</td>\n",
       "      <td>9.900000e+01</td>\n",
       "      <td>9.900000e+01</td>\n",
       "      <td>9.900000e+01</td>\n",
       "      <td>9.900000e+01</td>\n",
       "      <td>9.900000e+01</td>\n",
       "      <td>9.900000e+01</td>\n",
       "      <td>...</td>\n",
       "      <td>9.900000e+01</td>\n",
       "      <td>9.900000e+01</td>\n",
       "      <td>9.900000e+01</td>\n",
       "      <td>9.900000e+01</td>\n",
       "      <td>9.900000e+01</td>\n",
       "      <td>9.900000e+01</td>\n",
       "      <td>9.900000e+01</td>\n",
       "      <td>99.0</td>\n",
       "      <td>99.0</td>\n",
       "      <td>99.0</td>\n",
       "    </tr>\n",
       "    <tr>\n",
       "      <th>mean</th>\n",
       "      <td>4.149318e-17</td>\n",
       "      <td>-2.242875e-18</td>\n",
       "      <td>1.233581e-17</td>\n",
       "      <td>-1.138960e-17</td>\n",
       "      <td>1.009294e-17</td>\n",
       "      <td>2.467162e-17</td>\n",
       "      <td>-7.534658e-19</td>\n",
       "      <td>-1.485905e-17</td>\n",
       "      <td>7.289343e-17</td>\n",
       "      <td>1.233581e-17</td>\n",
       "      <td>...</td>\n",
       "      <td>-5.607187e-18</td>\n",
       "      <td>2.635378e-17</td>\n",
       "      <td>-2.130731e-17</td>\n",
       "      <td>-2.467162e-17</td>\n",
       "      <td>9.083643e-17</td>\n",
       "      <td>2.859665e-17</td>\n",
       "      <td>-1.570012e-17</td>\n",
       "      <td>0.0</td>\n",
       "      <td>0.0</td>\n",
       "      <td>0.0</td>\n",
       "    </tr>\n",
       "    <tr>\n",
       "      <th>std</th>\n",
       "      <td>1.005089e+00</td>\n",
       "      <td>1.005089e+00</td>\n",
       "      <td>1.005089e+00</td>\n",
       "      <td>1.005089e+00</td>\n",
       "      <td>1.005089e+00</td>\n",
       "      <td>1.005089e+00</td>\n",
       "      <td>1.005089e+00</td>\n",
       "      <td>1.005089e+00</td>\n",
       "      <td>1.005089e+00</td>\n",
       "      <td>1.005089e+00</td>\n",
       "      <td>...</td>\n",
       "      <td>1.005089e+00</td>\n",
       "      <td>1.005089e+00</td>\n",
       "      <td>1.005089e+00</td>\n",
       "      <td>1.005089e+00</td>\n",
       "      <td>1.005089e+00</td>\n",
       "      <td>1.005089e+00</td>\n",
       "      <td>1.005089e+00</td>\n",
       "      <td>0.0</td>\n",
       "      <td>0.0</td>\n",
       "      <td>0.0</td>\n",
       "    </tr>\n",
       "    <tr>\n",
       "      <th>min</th>\n",
       "      <td>-5.572983e-01</td>\n",
       "      <td>-5.842321e+00</td>\n",
       "      <td>-2.389050e+00</td>\n",
       "      <td>-2.619738e-01</td>\n",
       "      <td>-4.123848e+00</td>\n",
       "      <td>-6.530631e-01</td>\n",
       "      <td>-5.538382e-01</td>\n",
       "      <td>-2.505287e-01</td>\n",
       "      <td>-3.093597e+00</td>\n",
       "      <td>-3.110193e-01</td>\n",
       "      <td>...</td>\n",
       "      <td>-5.846669e-01</td>\n",
       "      <td>-5.083298e-01</td>\n",
       "      <td>-1.874118e+00</td>\n",
       "      <td>-6.560521e-01</td>\n",
       "      <td>-7.478530e-01</td>\n",
       "      <td>-6.081754e-01</td>\n",
       "      <td>-3.459925e+00</td>\n",
       "      <td>0.0</td>\n",
       "      <td>0.0</td>\n",
       "      <td>0.0</td>\n",
       "    </tr>\n",
       "    <tr>\n",
       "      <th>25%</th>\n",
       "      <td>-4.633142e-01</td>\n",
       "      <td>-1.400747e-02</td>\n",
       "      <td>-2.121788e-01</td>\n",
       "      <td>-2.125131e-01</td>\n",
       "      <td>-1.538561e-01</td>\n",
       "      <td>-6.043762e-01</td>\n",
       "      <td>-4.250123e-01</td>\n",
       "      <td>-2.232486e-01</td>\n",
       "      <td>-9.878170e-02</td>\n",
       "      <td>-3.106388e-01</td>\n",
       "      <td>...</td>\n",
       "      <td>-4.594576e-01</td>\n",
       "      <td>-4.326361e-01</td>\n",
       "      <td>-6.051258e-01</td>\n",
       "      <td>-5.233013e-01</td>\n",
       "      <td>-5.808073e-01</td>\n",
       "      <td>-4.759785e-01</td>\n",
       "      <td>-1.142553e-01</td>\n",
       "      <td>0.0</td>\n",
       "      <td>0.0</td>\n",
       "      <td>0.0</td>\n",
       "    </tr>\n",
       "    <tr>\n",
       "      <th>50%</th>\n",
       "      <td>-3.337615e-01</td>\n",
       "      <td>2.268168e-01</td>\n",
       "      <td>-7.192636e-02</td>\n",
       "      <td>-1.855345e-01</td>\n",
       "      <td>3.911792e-01</td>\n",
       "      <td>-3.347610e-01</td>\n",
       "      <td>-2.878750e-01</td>\n",
       "      <td>-1.867831e-01</td>\n",
       "      <td>-1.734517e-02</td>\n",
       "      <td>-3.077844e-01</td>\n",
       "      <td>...</td>\n",
       "      <td>-3.788483e-01</td>\n",
       "      <td>-3.148813e-01</td>\n",
       "      <td>-3.589456e-01</td>\n",
       "      <td>-3.920960e-01</td>\n",
       "      <td>-3.715790e-01</td>\n",
       "      <td>-3.388296e-01</td>\n",
       "      <td>4.699595e-01</td>\n",
       "      <td>0.0</td>\n",
       "      <td>0.0</td>\n",
       "      <td>0.0</td>\n",
       "    </tr>\n",
       "    <tr>\n",
       "      <th>75%</th>\n",
       "      <td>-1.315102e-01</td>\n",
       "      <td>3.238790e-01</td>\n",
       "      <td>5.320550e-02</td>\n",
       "      <td>-1.293291e-01</td>\n",
       "      <td>5.880183e-01</td>\n",
       "      <td>1.498103e-01</td>\n",
       "      <td>7.366879e-02</td>\n",
       "      <td>-6.959544e-02</td>\n",
       "      <td>-1.734517e-02</td>\n",
       "      <td>-2.313821e-01</td>\n",
       "      <td>...</td>\n",
       "      <td>-4.058344e-02</td>\n",
       "      <td>-7.565692e-02</td>\n",
       "      <td>1.496974e-01</td>\n",
       "      <td>1.100645e-01</td>\n",
       "      <td>1.484804e-01</td>\n",
       "      <td>-6.665996e-02</td>\n",
       "      <td>5.857355e-01</td>\n",
       "      <td>0.0</td>\n",
       "      <td>0.0</td>\n",
       "      <td>0.0</td>\n",
       "    </tr>\n",
       "    <tr>\n",
       "      <th>max</th>\n",
       "      <td>5.510885e+00</td>\n",
       "      <td>1.970275e+00</td>\n",
       "      <td>6.380328e+00</td>\n",
       "      <td>9.283947e+00</td>\n",
       "      <td>6.862839e-01</td>\n",
       "      <td>4.369852e+00</td>\n",
       "      <td>7.956985e+00</td>\n",
       "      <td>9.662578e+00</td>\n",
       "      <td>8.083163e+00</td>\n",
       "      <td>5.546935e+00</td>\n",
       "      <td>...</td>\n",
       "      <td>6.000373e+00</td>\n",
       "      <td>5.819472e+00</td>\n",
       "      <td>4.549106e+00</td>\n",
       "      <td>4.466455e+00</td>\n",
       "      <td>4.060852e+00</td>\n",
       "      <td>4.432801e+00</td>\n",
       "      <td>5.857355e-01</td>\n",
       "      <td>0.0</td>\n",
       "      <td>0.0</td>\n",
       "      <td>0.0</td>\n",
       "    </tr>\n",
       "  </tbody>\n",
       "</table>\n",
       "<p>8 rows × 76 columns</p>\n",
       "</div>"
      ],
      "text/plain": [
       "       Accounts Payable  Accounts Receivable  Add'l income/expense items  \\\n",
       "count      9.900000e+01         9.900000e+01                9.900000e+01   \n",
       "mean       4.149318e-17        -2.242875e-18                1.233581e-17   \n",
       "std        1.005089e+00         1.005089e+00                1.005089e+00   \n",
       "min       -5.572983e-01        -5.842321e+00               -2.389050e+00   \n",
       "25%       -4.633142e-01        -1.400747e-02               -2.121788e-01   \n",
       "50%       -3.337615e-01         2.268168e-01               -7.192636e-02   \n",
       "75%       -1.315102e-01         3.238790e-01                5.320550e-02   \n",
       "max        5.510885e+00         1.970275e+00                6.380328e+00   \n",
       "\n",
       "       After Tax ROE  Capital Expenditures  Capital Surplus    Cash Ratio  \\\n",
       "count   9.900000e+01          9.900000e+01     9.900000e+01  9.900000e+01   \n",
       "mean   -1.138960e-17          1.009294e-17     2.467162e-17 -7.534658e-19   \n",
       "std     1.005089e+00          1.005089e+00     1.005089e+00  1.005089e+00   \n",
       "min    -2.619738e-01         -4.123848e+00    -6.530631e-01 -5.538382e-01   \n",
       "25%    -2.125131e-01         -1.538561e-01    -6.043762e-01 -4.250123e-01   \n",
       "50%    -1.855345e-01          3.911792e-01    -3.347610e-01 -2.878750e-01   \n",
       "75%    -1.293291e-01          5.880183e-01     1.498103e-01  7.366879e-02   \n",
       "max     9.283947e+00          6.862839e-01     4.369852e+00  7.956985e+00   \n",
       "\n",
       "       Cash and Cash Equivalents  Changes in Inventories  Common Stocks  ...  \\\n",
       "count               9.900000e+01            9.900000e+01   9.900000e+01  ...   \n",
       "mean               -1.485905e-17            7.289343e-17   1.233581e-17  ...   \n",
       "std                 1.005089e+00            1.005089e+00   1.005089e+00  ...   \n",
       "min                -2.505287e-01           -3.093597e+00  -3.110193e-01  ...   \n",
       "25%                -2.232486e-01           -9.878170e-02  -3.106388e-01  ...   \n",
       "50%                -1.867831e-01           -1.734517e-02  -3.077844e-01  ...   \n",
       "75%                -6.959544e-02           -1.734517e-02  -2.313821e-01  ...   \n",
       "max                 9.662578e+00            8.083163e+00   5.546935e+00  ...   \n",
       "\n",
       "       Total Current Assets  Total Current Liabilities  Total Equity  \\\n",
       "count          9.900000e+01               9.900000e+01  9.900000e+01   \n",
       "mean          -5.607187e-18               2.635378e-17 -2.130731e-17   \n",
       "std            1.005089e+00               1.005089e+00  1.005089e+00   \n",
       "min           -5.846669e-01              -5.083298e-01 -1.874118e+00   \n",
       "25%           -4.594576e-01              -4.326361e-01 -6.051258e-01   \n",
       "50%           -3.788483e-01              -3.148813e-01 -3.589456e-01   \n",
       "75%           -4.058344e-02              -7.565692e-02  1.496974e-01   \n",
       "max            6.000373e+00               5.819472e+00  4.549106e+00   \n",
       "\n",
       "       Total Liabilities  Total Liabilities & Equity  Total Revenue  \\\n",
       "count       9.900000e+01                9.900000e+01   9.900000e+01   \n",
       "mean       -2.467162e-17                9.083643e-17   2.859665e-17   \n",
       "std         1.005089e+00                1.005089e+00   1.005089e+00   \n",
       "min        -6.560521e-01               -7.478530e-01  -6.081754e-01   \n",
       "25%        -5.233013e-01               -5.808073e-01  -4.759785e-01   \n",
       "50%        -3.920960e-01               -3.715790e-01  -3.388296e-01   \n",
       "75%         1.100645e-01                1.484804e-01  -6.665996e-02   \n",
       "max         4.466455e+00                4.060852e+00   4.432801e+00   \n",
       "\n",
       "       Treasury Stock  For Year  Earnings Per Share  \\\n",
       "count    9.900000e+01      99.0                99.0   \n",
       "mean    -1.570012e-17       0.0                 0.0   \n",
       "std      1.005089e+00       0.0                 0.0   \n",
       "min     -3.459925e+00       0.0                 0.0   \n",
       "25%     -1.142553e-01       0.0                 0.0   \n",
       "50%      4.699595e-01       0.0                 0.0   \n",
       "75%      5.857355e-01       0.0                 0.0   \n",
       "max      5.857355e-01       0.0                 0.0   \n",
       "\n",
       "       Estimated Shares Outstanding  \n",
       "count                          99.0  \n",
       "mean                            0.0  \n",
       "std                             0.0  \n",
       "min                             0.0  \n",
       "25%                             0.0  \n",
       "50%                             0.0  \n",
       "75%                             0.0  \n",
       "max                             0.0  \n",
       "\n",
       "[8 rows x 76 columns]"
      ]
     },
     "execution_count": 19,
     "metadata": {},
     "output_type": "execute_result"
    }
   ],
   "source": [
    "# summary to show if normalization worked\n",
    "fundamentals_norm.describe()"
   ]
  },
  {
   "cell_type": "code",
   "execution_count": 20,
   "metadata": {
    "colab": {
     "base_uri": "https://localhost:8080/",
     "height": 270
    },
    "id": "2XP46U14nmCU",
    "outputId": "37ae5846-daf7-4611-9451-08cc523f6372"
   },
   "outputs": [
    {
     "data": {
      "text/html": [
       "<div>\n",
       "<style scoped>\n",
       "    .dataframe tbody tr th:only-of-type {\n",
       "        vertical-align: middle;\n",
       "    }\n",
       "\n",
       "    .dataframe tbody tr th {\n",
       "        vertical-align: top;\n",
       "    }\n",
       "\n",
       "    .dataframe thead th {\n",
       "        text-align: right;\n",
       "    }\n",
       "</style>\n",
       "<table border=\"1\" class=\"dataframe\">\n",
       "  <thead>\n",
       "    <tr style=\"text-align: right;\">\n",
       "      <th></th>\n",
       "      <th>Accounts Payable</th>\n",
       "      <th>Accounts Receivable</th>\n",
       "      <th>Add'l income/expense items</th>\n",
       "      <th>After Tax ROE</th>\n",
       "      <th>Capital Expenditures</th>\n",
       "      <th>Capital Surplus</th>\n",
       "      <th>Cash Ratio</th>\n",
       "      <th>Cash and Cash Equivalents</th>\n",
       "      <th>Changes in Inventories</th>\n",
       "      <th>Common Stocks</th>\n",
       "      <th>...</th>\n",
       "      <th>Total Current Assets</th>\n",
       "      <th>Total Current Liabilities</th>\n",
       "      <th>Total Equity</th>\n",
       "      <th>Total Liabilities</th>\n",
       "      <th>Total Liabilities &amp; Equity</th>\n",
       "      <th>Total Revenue</th>\n",
       "      <th>Treasury Stock</th>\n",
       "      <th>For Year</th>\n",
       "      <th>Earnings Per Share</th>\n",
       "      <th>Estimated Shares Outstanding</th>\n",
       "    </tr>\n",
       "  </thead>\n",
       "  <tbody>\n",
       "    <tr>\n",
       "      <th>0</th>\n",
       "      <td>-0.465085</td>\n",
       "      <td>0.030099</td>\n",
       "      <td>-0.032156</td>\n",
       "      <td>-0.194527</td>\n",
       "      <td>0.584432</td>\n",
       "      <td>-0.097529</td>\n",
       "      <td>0.850780</td>\n",
       "      <td>-0.193712</td>\n",
       "      <td>-0.017345</td>\n",
       "      <td>-0.311008</td>\n",
       "      <td>...</td>\n",
       "      <td>-0.230114</td>\n",
       "      <td>-0.311262</td>\n",
       "      <td>-0.237029</td>\n",
       "      <td>-0.547999</td>\n",
       "      <td>-0.529710</td>\n",
       "      <td>-0.469774</td>\n",
       "      <td>0.010501</td>\n",
       "      <td>0.0</td>\n",
       "      <td>0.0</td>\n",
       "      <td>0.0</td>\n",
       "    </tr>\n",
       "    <tr>\n",
       "      <th>1</th>\n",
       "      <td>-0.333761</td>\n",
       "      <td>0.340865</td>\n",
       "      <td>-0.158134</td>\n",
       "      <td>-0.203520</td>\n",
       "      <td>0.643688</td>\n",
       "      <td>-0.270876</td>\n",
       "      <td>-0.553838</td>\n",
       "      <td>-0.192524</td>\n",
       "      <td>-0.007467</td>\n",
       "      <td>-0.310733</td>\n",
       "      <td>...</td>\n",
       "      <td>-0.584667</td>\n",
       "      <td>-0.508330</td>\n",
       "      <td>-0.507809</td>\n",
       "      <td>-0.076495</td>\n",
       "      <td>-0.190354</td>\n",
       "      <td>-0.423830</td>\n",
       "      <td>0.084687</td>\n",
       "      <td>0.0</td>\n",
       "      <td>0.0</td>\n",
       "      <td>0.0</td>\n",
       "    </tr>\n",
       "    <tr>\n",
       "      <th>2</th>\n",
       "      <td>-0.151388</td>\n",
       "      <td>-0.115648</td>\n",
       "      <td>-0.075259</td>\n",
       "      <td>-0.212513</td>\n",
       "      <td>0.577438</td>\n",
       "      <td>-0.260089</td>\n",
       "      <td>-0.553838</td>\n",
       "      <td>-0.140442</td>\n",
       "      <td>-0.017345</td>\n",
       "      <td>-0.277090</td>\n",
       "      <td>...</td>\n",
       "      <td>-0.584667</td>\n",
       "      <td>-0.508330</td>\n",
       "      <td>-0.548629</td>\n",
       "      <td>-0.487446</td>\n",
       "      <td>-0.554011</td>\n",
       "      <td>-0.476885</td>\n",
       "      <td>0.585735</td>\n",
       "      <td>0.0</td>\n",
       "      <td>0.0</td>\n",
       "      <td>0.0</td>\n",
       "    </tr>\n",
       "    <tr>\n",
       "      <th>3</th>\n",
       "      <td>-0.517467</td>\n",
       "      <td>0.287618</td>\n",
       "      <td>-0.313475</td>\n",
       "      <td>0.641809</td>\n",
       "      <td>0.665044</td>\n",
       "      <td>-0.653063</td>\n",
       "      <td>0.052890</td>\n",
       "      <td>-0.233907</td>\n",
       "      <td>-0.050998</td>\n",
       "      <td>-0.310829</td>\n",
       "      <td>...</td>\n",
       "      <td>-0.534317</td>\n",
       "      <td>-0.478219</td>\n",
       "      <td>-0.832153</td>\n",
       "      <td>-0.621018</td>\n",
       "      <td>-0.738483</td>\n",
       "      <td>-0.568831</td>\n",
       "      <td>0.585735</td>\n",
       "      <td>0.0</td>\n",
       "      <td>0.0</td>\n",
       "      <td>0.0</td>\n",
       "    </tr>\n",
       "    <tr>\n",
       "      <th>4</th>\n",
       "      <td>-0.496865</td>\n",
       "      <td>0.100453</td>\n",
       "      <td>-0.053668</td>\n",
       "      <td>-0.243988</td>\n",
       "      <td>0.519866</td>\n",
       "      <td>0.304491</td>\n",
       "      <td>0.751044</td>\n",
       "      <td>-0.196318</td>\n",
       "      <td>-0.198555</td>\n",
       "      <td>-0.311019</td>\n",
       "      <td>...</td>\n",
       "      <td>-0.428148</td>\n",
       "      <td>-0.450646</td>\n",
       "      <td>-0.133725</td>\n",
       "      <td>-0.564775</td>\n",
       "      <td>-0.518814</td>\n",
       "      <td>-0.545658</td>\n",
       "      <td>0.457855</td>\n",
       "      <td>0.0</td>\n",
       "      <td>0.0</td>\n",
       "      <td>0.0</td>\n",
       "    </tr>\n",
       "  </tbody>\n",
       "</table>\n",
       "<p>5 rows × 76 columns</p>\n",
       "</div>"
      ],
      "text/plain": [
       "   Accounts Payable  Accounts Receivable  Add'l income/expense items  \\\n",
       "0         -0.465085             0.030099                   -0.032156   \n",
       "1         -0.333761             0.340865                   -0.158134   \n",
       "2         -0.151388            -0.115648                   -0.075259   \n",
       "3         -0.517467             0.287618                   -0.313475   \n",
       "4         -0.496865             0.100453                   -0.053668   \n",
       "\n",
       "   After Tax ROE  Capital Expenditures  Capital Surplus  Cash Ratio  \\\n",
       "0      -0.194527              0.584432        -0.097529    0.850780   \n",
       "1      -0.203520              0.643688        -0.270876   -0.553838   \n",
       "2      -0.212513              0.577438        -0.260089   -0.553838   \n",
       "3       0.641809              0.665044        -0.653063    0.052890   \n",
       "4      -0.243988              0.519866         0.304491    0.751044   \n",
       "\n",
       "   Cash and Cash Equivalents  Changes in Inventories  Common Stocks  ...  \\\n",
       "0                  -0.193712               -0.017345      -0.311008  ...   \n",
       "1                  -0.192524               -0.007467      -0.310733  ...   \n",
       "2                  -0.140442               -0.017345      -0.277090  ...   \n",
       "3                  -0.233907               -0.050998      -0.310829  ...   \n",
       "4                  -0.196318               -0.198555      -0.311019  ...   \n",
       "\n",
       "   Total Current Assets  Total Current Liabilities  Total Equity  \\\n",
       "0             -0.230114                  -0.311262     -0.237029   \n",
       "1             -0.584667                  -0.508330     -0.507809   \n",
       "2             -0.584667                  -0.508330     -0.548629   \n",
       "3             -0.534317                  -0.478219     -0.832153   \n",
       "4             -0.428148                  -0.450646     -0.133725   \n",
       "\n",
       "   Total Liabilities  Total Liabilities & Equity  Total Revenue  \\\n",
       "0          -0.547999                   -0.529710      -0.469774   \n",
       "1          -0.076495                   -0.190354      -0.423830   \n",
       "2          -0.487446                   -0.554011      -0.476885   \n",
       "3          -0.621018                   -0.738483      -0.568831   \n",
       "4          -0.564775                   -0.518814      -0.545658   \n",
       "\n",
       "   Treasury Stock  For Year  Earnings Per Share  Estimated Shares Outstanding  \n",
       "0        0.010501       0.0                 0.0                           0.0  \n",
       "1        0.084687       0.0                 0.0                           0.0  \n",
       "2        0.585735       0.0                 0.0                           0.0  \n",
       "3        0.585735       0.0                 0.0                           0.0  \n",
       "4        0.457855       0.0                 0.0                           0.0  \n",
       "\n",
       "[5 rows x 76 columns]"
      ]
     },
     "execution_count": 20,
     "metadata": {},
     "output_type": "execute_result"
    }
   ],
   "source": [
    "# head() to show few rows of the normalized data\n",
    "fundamentals_norm.head()"
   ]
  },
  {
   "cell_type": "markdown",
   "metadata": {
    "id": "H2su1u4moIsX"
   },
   "source": [
    "As all of the variables in the data normalized, I need to choose number of components (variables) that I will include in the data. In order to do it, I will compare number of components vs Cumulative Explained Variance and I will choose optimal number that has the most of data variance saved."
   ]
  },
  {
   "cell_type": "code",
   "execution_count": 21,
   "metadata": {
    "colab": {
     "base_uri": "https://localhost:8080/",
     "height": 1000
    },
    "id": "d1pQLMhmoZVa",
    "outputId": "7f59db1f-0f8c-4945-9610-dc7315271766"
   },
   "outputs": [
    {
     "data": {
      "image/png": "[encoded data removed]",
      "text/plain": [
       "<Figure size 1200x1000 with 1 Axes>"
      ]
     },
     "metadata": {},
     "output_type": "display_data"
    },
    {
     "data": {
      "text/html": [
       "<div>\n",
       "<style scoped>\n",
       "    .dataframe tbody tr th:only-of-type {\n",
       "        vertical-align: middle;\n",
       "    }\n",
       "\n",
       "    .dataframe tbody tr th {\n",
       "        vertical-align: top;\n",
       "    }\n",
       "\n",
       "    .dataframe thead th {\n",
       "        text-align: right;\n",
       "    }\n",
       "</style>\n",
       "<table border=\"1\" class=\"dataframe\">\n",
       "  <thead>\n",
       "    <tr style=\"text-align: right;\">\n",
       "      <th></th>\n",
       "      <th>Number of Components</th>\n",
       "      <th>Cumulative Variance for Component</th>\n",
       "    </tr>\n",
       "  </thead>\n",
       "  <tbody>\n",
       "    <tr>\n",
       "      <th>0</th>\n",
       "      <td>1</td>\n",
       "      <td>0.286495</td>\n",
       "    </tr>\n",
       "    <tr>\n",
       "      <th>1</th>\n",
       "      <td>2</td>\n",
       "      <td>0.379206</td>\n",
       "    </tr>\n",
       "    <tr>\n",
       "      <th>2</th>\n",
       "      <td>3</td>\n",
       "      <td>0.452330</td>\n",
       "    </tr>\n",
       "    <tr>\n",
       "      <th>3</th>\n",
       "      <td>4</td>\n",
       "      <td>0.512570</td>\n",
       "    </tr>\n",
       "    <tr>\n",
       "      <th>4</th>\n",
       "      <td>5</td>\n",
       "      <td>0.570557</td>\n",
       "    </tr>\n",
       "    <tr>\n",
       "      <th>5</th>\n",
       "      <td>6</td>\n",
       "      <td>0.620420</td>\n",
       "    </tr>\n",
       "    <tr>\n",
       "      <th>6</th>\n",
       "      <td>7</td>\n",
       "      <td>0.662947</td>\n",
       "    </tr>\n",
       "    <tr>\n",
       "      <th>7</th>\n",
       "      <td>8</td>\n",
       "      <td>0.702642</td>\n",
       "    </tr>\n",
       "    <tr>\n",
       "      <th>8</th>\n",
       "      <td>9</td>\n",
       "      <td>0.736831</td>\n",
       "    </tr>\n",
       "    <tr>\n",
       "      <th>9</th>\n",
       "      <td>10</td>\n",
       "      <td>0.767886</td>\n",
       "    </tr>\n",
       "    <tr>\n",
       "      <th>10</th>\n",
       "      <td>11</td>\n",
       "      <td>0.797350</td>\n",
       "    </tr>\n",
       "    <tr>\n",
       "      <th>11</th>\n",
       "      <td>12</td>\n",
       "      <td>0.823335</td>\n",
       "    </tr>\n",
       "    <tr>\n",
       "      <th>12</th>\n",
       "      <td>13</td>\n",
       "      <td>0.848568</td>\n",
       "    </tr>\n",
       "    <tr>\n",
       "      <th>13</th>\n",
       "      <td>14</td>\n",
       "      <td>0.866299</td>\n",
       "    </tr>\n",
       "    <tr>\n",
       "      <th>14</th>\n",
       "      <td>15</td>\n",
       "      <td>0.882846</td>\n",
       "    </tr>\n",
       "    <tr>\n",
       "      <th>15</th>\n",
       "      <td>16</td>\n",
       "      <td>0.898277</td>\n",
       "    </tr>\n",
       "    <tr>\n",
       "      <th>16</th>\n",
       "      <td>17</td>\n",
       "      <td>0.911106</td>\n",
       "    </tr>\n",
       "    <tr>\n",
       "      <th>17</th>\n",
       "      <td>18</td>\n",
       "      <td>0.922090</td>\n",
       "    </tr>\n",
       "    <tr>\n",
       "      <th>18</th>\n",
       "      <td>19</td>\n",
       "      <td>0.931740</td>\n",
       "    </tr>\n",
       "    <tr>\n",
       "      <th>19</th>\n",
       "      <td>20</td>\n",
       "      <td>0.939247</td>\n",
       "    </tr>\n",
       "    <tr>\n",
       "      <th>20</th>\n",
       "      <td>21</td>\n",
       "      <td>0.946330</td>\n",
       "    </tr>\n",
       "    <tr>\n",
       "      <th>21</th>\n",
       "      <td>22</td>\n",
       "      <td>0.952661</td>\n",
       "    </tr>\n",
       "    <tr>\n",
       "      <th>22</th>\n",
       "      <td>23</td>\n",
       "      <td>0.958446</td>\n",
       "    </tr>\n",
       "    <tr>\n",
       "      <th>23</th>\n",
       "      <td>24</td>\n",
       "      <td>0.963638</td>\n",
       "    </tr>\n",
       "    <tr>\n",
       "      <th>24</th>\n",
       "      <td>25</td>\n",
       "      <td>0.968439</td>\n",
       "    </tr>\n",
       "  </tbody>\n",
       "</table>\n",
       "</div>"
      ],
      "text/plain": [
       "    Number of Components  Cumulative Variance for Component\n",
       "0                      1                           0.286495\n",
       "1                      2                           0.379206\n",
       "2                      3                           0.452330\n",
       "3                      4                           0.512570\n",
       "4                      5                           0.570557\n",
       "5                      6                           0.620420\n",
       "6                      7                           0.662947\n",
       "7                      8                           0.702642\n",
       "8                      9                           0.736831\n",
       "9                     10                           0.767886\n",
       "10                    11                           0.797350\n",
       "11                    12                           0.823335\n",
       "12                    13                           0.848568\n",
       "13                    14                           0.866299\n",
       "14                    15                           0.882846\n",
       "15                    16                           0.898277\n",
       "16                    17                           0.911106\n",
       "17                    18                           0.922090\n",
       "18                    19                           0.931740\n",
       "19                    20                           0.939247\n",
       "20                    21                           0.946330\n",
       "21                    22                           0.952661\n",
       "22                    23                           0.958446\n",
       "23                    24                           0.963638\n",
       "24                    25                           0.968439"
      ]
     },
     "execution_count": 21,
     "metadata": {},
     "output_type": "execute_result"
    }
   ],
   "source": [
    "# model with a specific number of components for PCA\n",
    "## n_components = number of components\n",
    "model_pca = PCA(n_components=25)\n",
    "\n",
    "# fit the dataa to the pca model\n",
    "model_pca.fit_transform(fundamentals_norm)\n",
    "\n",
    "cumulative_variance = model_pca.explained_variance_ratio_.cumsum()\n",
    "highest_cumulative_variance = cumulative_variance[-1]\n",
    "n_components = len(cumulative_variance)\n",
    "\n",
    "\n",
    "# plot\n",
    "plt.figure(figsize = (12, 10))\n",
    "plt.plot(range(1, n_components + 1), cumulative_variance)\n",
    "\n",
    "## parameters\n",
    "### title\n",
    "plt.title('Number of components VS Cumulative Explained Variance', fontweight = 'bold', fontsize = 18)\n",
    "\n",
    "### xlabels\n",
    "plt.xlabel('Number of components', fontsize = 16)\n",
    "plt.xticks([1, 5, 10, 15, 20, 25, 30], fontsize = 16)\n",
    "\n",
    "### ylabels\n",
    "plt.ylabel('Cumulative explained variance', fontsize = 16 )\n",
    "plt.yticks(fontsize = 16)\n",
    "\n",
    "\n",
    "### vertical lines from grids to determine number of components with the highest explained variation\n",
    "plt.grid(True,\n",
    "         which = 'major',\n",
    "         linestyle = '--',\n",
    "        axis = 'x')\n",
    "\n",
    "### annotation to find higest variance possible and corresponding number of components\n",
    "plt.annotate(f\"Highest cumulative variance possible: {highest_cumulative_variance: .2f}\",\n",
    "             xy = (n_components, highest_cumulative_variance),\n",
    "             xytext = (n_components - 5, highest_cumulative_variance - 0.1),\n",
    "             arrowprops = dict(facecolor = 'red'),\n",
    "             horizontalalignment = 'center')\n",
    "plt.show()\n",
    "\n",
    "\n",
    "### dataframe for more clear understanding\n",
    "all_components = np.arange(1, n_components + 1)\n",
    "\n",
    "pd.DataFrame({\n",
    "    'Number of Components' : all_components,\n",
    "    'Cumulative Variance for Component': cumulative_variance\n",
    "})"
   ]
  },
  {
   "cell_type": "markdown",
   "metadata": {
    "id": "yFqXJeH9x24D"
   },
   "source": [
    "At most, I can save ~97% of data variance using 25 components. Let's start from 16 components with 91% of captured variance and increase number of components further if the clustering won't be clear and accurate. "
   ]
  },
  {
   "cell_type": "markdown",
   "metadata": {
    "id": "7OcNhN3l0RVJ"
   },
   "source": [
    "## Determining Number of K clusters for K-means clustering\n",
    "As I identified optimal number of components, I am going to use this reduced data to find an optiminal number of clusters and then produce a K-means clustering."
   ]
  },
  {
   "cell_type": "code",
   "execution_count": 97,
   "metadata": {
    "id": "ZjFt5MbJynAY"
   },
   "outputs": [],
   "source": [
    "# fit main data to pca with 16 components\n",
    "pca = PCA(n_components = 16)\n",
    "data = pca.fit_transform(fundamentals_norm)"
   ]
  },
  {
   "cell_type": "code",
   "execution_count": 98,
   "metadata": {
    "colab": {
     "base_uri": "https://localhost:8080/"
    },
    "id": "qtoJVDIb0qoH",
    "outputId": "32db15b8-f198-4f6f-ca46-a48ceab26842"
   },
   "outputs": [
    {
     "name": "stdout",
     "output_type": "stream",
     "text": [
      "1\n",
      "2\n",
      "3\n",
      "4\n",
      "5\n",
      "6\n",
      "7\n",
      "8\n",
      "9\n",
      "10\n",
      "11\n",
      "12\n",
      "13\n",
      "14\n",
      "15\n",
      "16\n",
      "17\n",
      "18\n",
      "19\n",
      "20\n",
      "21\n",
      "22\n",
      "23\n",
      "24\n"
     ]
    },
    {
     "name": "stderr",
     "output_type": "stream",
     "text": [
      "C:\\Users\\Beibarys Nyussupov\\anaconda3\\lib\\site-packages\\sklearn\\cluster\\_kmeans.py:1446: UserWarning: KMeans is known to have a memory leak on Windows with MKL, when there are less chunks than available threads. You can avoid it by setting the environment variable OMP_NUM_THREADS=1.\n",
      "  warnings.warn(\n",
      "C:\\Users\\Beibarys Nyussupov\\anaconda3\\lib\\site-packages\\sklearn\\cluster\\_kmeans.py:1446: UserWarning: KMeans is known to have a memory leak on Windows with MKL, when there are less chunks than available threads. You can avoid it by setting the environment variable OMP_NUM_THREADS=1.\n",
      "  warnings.warn(\n",
      "C:\\Users\\Beibarys Nyussupov\\anaconda3\\lib\\site-packages\\sklearn\\cluster\\_kmeans.py:1446: UserWarning: KMeans is known to have a memory leak on Windows with MKL, when there are less chunks than available threads. You can avoid it by setting the environment variable OMP_NUM_THREADS=1.\n",
      "  warnings.warn(\n",
      "C:\\Users\\Beibarys Nyussupov\\anaconda3\\lib\\site-packages\\sklearn\\cluster\\_kmeans.py:1446: UserWarning: KMeans is known to have a memory leak on Windows with MKL, when there are less chunks than available threads. You can avoid it by setting the environment variable OMP_NUM_THREADS=1.\n",
      "  warnings.warn(\n",
      "C:\\Users\\Beibarys Nyussupov\\anaconda3\\lib\\site-packages\\sklearn\\cluster\\_kmeans.py:1446: UserWarning: KMeans is known to have a memory leak on Windows with MKL, when there are less chunks than available threads. You can avoid it by setting the environment variable OMP_NUM_THREADS=1.\n",
      "  warnings.warn(\n",
      "C:\\Users\\Beibarys Nyussupov\\anaconda3\\lib\\site-packages\\sklearn\\cluster\\_kmeans.py:1446: UserWarning: KMeans is known to have a memory leak on Windows with MKL, when there are less chunks than available threads. You can avoid it by setting the environment variable OMP_NUM_THREADS=1.\n",
      "  warnings.warn(\n",
      "C:\\Users\\Beibarys Nyussupov\\anaconda3\\lib\\site-packages\\sklearn\\cluster\\_kmeans.py:1446: UserWarning: KMeans is known to have a memory leak on Windows with MKL, when there are less chunks than available threads. You can avoid it by setting the environment variable OMP_NUM_THREADS=1.\n",
      "  warnings.warn(\n",
      "C:\\Users\\Beibarys Nyussupov\\anaconda3\\lib\\site-packages\\sklearn\\cluster\\_kmeans.py:1446: UserWarning: KMeans is known to have a memory leak on Windows with MKL, when there are less chunks than available threads. You can avoid it by setting the environment variable OMP_NUM_THREADS=1.\n",
      "  warnings.warn(\n",
      "C:\\Users\\Beibarys Nyussupov\\anaconda3\\lib\\site-packages\\sklearn\\cluster\\_kmeans.py:1446: UserWarning: KMeans is known to have a memory leak on Windows with MKL, when there are less chunks than available threads. You can avoid it by setting the environment variable OMP_NUM_THREADS=1.\n",
      "  warnings.warn(\n",
      "C:\\Users\\Beibarys Nyussupov\\anaconda3\\lib\\site-packages\\sklearn\\cluster\\_kmeans.py:1446: UserWarning: KMeans is known to have a memory leak on Windows with MKL, when there are less chunks than available threads. You can avoid it by setting the environment variable OMP_NUM_THREADS=1.\n",
      "  warnings.warn(\n",
      "C:\\Users\\Beibarys Nyussupov\\anaconda3\\lib\\site-packages\\sklearn\\cluster\\_kmeans.py:1446: UserWarning: KMeans is known to have a memory leak on Windows with MKL, when there are less chunks than available threads. You can avoid it by setting the environment variable OMP_NUM_THREADS=1.\n",
      "  warnings.warn(\n",
      "C:\\Users\\Beibarys Nyussupov\\anaconda3\\lib\\site-packages\\sklearn\\cluster\\_kmeans.py:1446: UserWarning: KMeans is known to have a memory leak on Windows with MKL, when there are less chunks than available threads. You can avoid it by setting the environment variable OMP_NUM_THREADS=1.\n",
      "  warnings.warn(\n",
      "C:\\Users\\Beibarys Nyussupov\\anaconda3\\lib\\site-packages\\sklearn\\cluster\\_kmeans.py:1446: UserWarning: KMeans is known to have a memory leak on Windows with MKL, when there are less chunks than available threads. You can avoid it by setting the environment variable OMP_NUM_THREADS=1.\n",
      "  warnings.warn(\n",
      "C:\\Users\\Beibarys Nyussupov\\anaconda3\\lib\\site-packages\\sklearn\\cluster\\_kmeans.py:1446: UserWarning: KMeans is known to have a memory leak on Windows with MKL, when there are less chunks than available threads. You can avoid it by setting the environment variable OMP_NUM_THREADS=1.\n",
      "  warnings.warn(\n",
      "C:\\Users\\Beibarys Nyussupov\\anaconda3\\lib\\site-packages\\sklearn\\cluster\\_kmeans.py:1446: UserWarning: KMeans is known to have a memory leak on Windows with MKL, when there are less chunks than available threads. You can avoid it by setting the environment variable OMP_NUM_THREADS=1.\n",
      "  warnings.warn(\n",
      "C:\\Users\\Beibarys Nyussupov\\anaconda3\\lib\\site-packages\\sklearn\\cluster\\_kmeans.py:1446: UserWarning: KMeans is known to have a memory leak on Windows with MKL, when there are less chunks than available threads. You can avoid it by setting the environment variable OMP_NUM_THREADS=1.\n",
      "  warnings.warn(\n",
      "C:\\Users\\Beibarys Nyussupov\\anaconda3\\lib\\site-packages\\sklearn\\cluster\\_kmeans.py:1446: UserWarning: KMeans is known to have a memory leak on Windows with MKL, when there are less chunks than available threads. You can avoid it by setting the environment variable OMP_NUM_THREADS=1.\n",
      "  warnings.warn(\n",
      "C:\\Users\\Beibarys Nyussupov\\anaconda3\\lib\\site-packages\\sklearn\\cluster\\_kmeans.py:1446: UserWarning: KMeans is known to have a memory leak on Windows with MKL, when there are less chunks than available threads. You can avoid it by setting the environment variable OMP_NUM_THREADS=1.\n",
      "  warnings.warn(\n",
      "C:\\Users\\Beibarys Nyussupov\\anaconda3\\lib\\site-packages\\sklearn\\cluster\\_kmeans.py:1446: UserWarning: KMeans is known to have a memory leak on Windows with MKL, when there are less chunks than available threads. You can avoid it by setting the environment variable OMP_NUM_THREADS=1.\n",
      "  warnings.warn(\n",
      "C:\\Users\\Beibarys Nyussupov\\anaconda3\\lib\\site-packages\\sklearn\\cluster\\_kmeans.py:1446: UserWarning: KMeans is known to have a memory leak on Windows with MKL, when there are less chunks than available threads. You can avoid it by setting the environment variable OMP_NUM_THREADS=1.\n",
      "  warnings.warn(\n",
      "C:\\Users\\Beibarys Nyussupov\\anaconda3\\lib\\site-packages\\sklearn\\cluster\\_kmeans.py:1446: UserWarning: KMeans is known to have a memory leak on Windows with MKL, when there are less chunks than available threads. You can avoid it by setting the environment variable OMP_NUM_THREADS=1.\n",
      "  warnings.warn(\n",
      "C:\\Users\\Beibarys Nyussupov\\anaconda3\\lib\\site-packages\\sklearn\\cluster\\_kmeans.py:1446: UserWarning: KMeans is known to have a memory leak on Windows with MKL, when there are less chunks than available threads. You can avoid it by setting the environment variable OMP_NUM_THREADS=1.\n",
      "  warnings.warn(\n",
      "C:\\Users\\Beibarys Nyussupov\\anaconda3\\lib\\site-packages\\sklearn\\cluster\\_kmeans.py:1446: UserWarning: KMeans is known to have a memory leak on Windows with MKL, when there are less chunks than available threads. You can avoid it by setting the environment variable OMP_NUM_THREADS=1.\n",
      "  warnings.warn(\n",
      "C:\\Users\\Beibarys Nyussupov\\anaconda3\\lib\\site-packages\\sklearn\\cluster\\_kmeans.py:1446: UserWarning: KMeans is known to have a memory leak on Windows with MKL, when there are less chunks than available threads. You can avoid it by setting the environment variable OMP_NUM_THREADS=1.\n",
      "  warnings.warn(\n"
     ]
    }
   ],
   "source": [
    "## sse - SUM OF SQUARED ERRORS\n",
    "## record sss for each number of clusters\n",
    "sse = []\n",
    "for k in range(1, 25):\n",
    "  print(k)\n",
    "  kmeans =  KMeans(n_clusters = k, random_state = 1042)\n",
    "  kmeans.fit(data)\n",
    "  sse.append(kmeans.inertia_)"
   ]
  },
  {
   "cell_type": "code",
   "execution_count": 99,
   "metadata": {
    "colab": {
     "base_uri": "https://localhost:8080/"
    },
    "id": "vY9C2L5_1azi",
    "outputId": "a91748e5-8e31-41a5-fec0-76f1b1114c65"
   },
   "outputs": [
    {
     "data": {
      "text/plain": [
       "[6491.850585196974,\n",
       " 4983.8930596616865,\n",
       " 4303.2991527966915,\n",
       " 4018.139023968166,\n",
       " 3773.4306146209256,\n",
       " 3455.255774492848,\n",
       " 3277.1588433338798,\n",
       " 2881.0561275407063,\n",
       " 2641.829921740653,\n",
       " 2465.2910034675374,\n",
       " 2144.457051909882,\n",
       " 1910.9531228305502,\n",
       " 1731.9328015334977,\n",
       " 1549.0201943263655,\n",
       " 1325.5581059708275,\n",
       " 1226.032484055075,\n",
       " 1034.9075127502701,\n",
       " 913.1410831406881,\n",
       " 806.4345886194559,\n",
       " 782.0457755257429,\n",
       " 733.3962679371039,\n",
       " 663.7826447682758,\n",
       " 617.8866663607903,\n",
       " 560.6076170312718]"
      ]
     },
     "execution_count": 99,
     "metadata": {},
     "output_type": "execute_result"
    }
   ],
   "source": [
    "## check\n",
    "sse"
   ]
  },
  {
   "cell_type": "code",
   "execution_count": 100,
   "metadata": {
    "colab": {
     "base_uri": "https://localhost:8080/",
     "height": 889
    },
    "id": "l7bTCs5I1ejm",
    "outputId": "4e8fe99d-f0cb-4935-ade9-a7031429f95b"
   },
   "outputs": [
    {
     "data": {
      "image/png": "[encoded data removed]",
      "text/plain": [
       "<Figure size 1200x1000 with 1 Axes>"
      ]
     },
     "metadata": {},
     "output_type": "display_data"
    }
   ],
   "source": [
    "# plot SSE vs number of clusters\n",
    "plt.figure(figsize = (12, 10))\n",
    "plt.plot(range(1, 25), sse, marker='o')\n",
    "\n",
    "## parameters\n",
    "### title\n",
    "plt.title('SSE vs Number of Clusters', fontweight = 'bold', fontsize = 18)\n",
    "\n",
    "### xlabels\n",
    "plt.xlabel(\"Number of Clusters\", fontsize = 16)\n",
    "plt.xticks(range(1, 25), fontsize = 16)\n",
    "\n",
    "### ylabels\n",
    "plt.ylabel(\"SSE\", fontsize = 16)\n",
    "plt.yticks(fontsize = 16)\n",
    "\n",
    "plt.show()"
   ]
  },
  {
   "cell_type": "markdown",
   "metadata": {
    "id": "fK7yStmD2tMp"
   },
   "source": [
    "Above visualization shows that SSE highly decreases till ~3 clusters, then it marginally decreases, as clusters increase. Marginall decrease is not something I am looking for as I am intending to cluster datapoints into distinct groups. That's why I will choose 3 clusters."
   ]
  },
  {
   "cell_type": "markdown",
   "metadata": {
    "id": "YfZGJfJP83eh"
   },
   "source": [
    "## Clustering"
   ]
  },
  {
   "cell_type": "code",
   "execution_count": 101,
   "metadata": {
    "colab": {
     "base_uri": "https://localhost:8080/"
    },
    "id": "dhKFF6ns2r7t",
    "outputId": "b1eb0c34-2ce3-4865-9750-23e379e168ef"
   },
   "outputs": [
    {
     "name": "stdout",
     "output_type": "stream",
     "text": [
      "[0 0 0 0 0 1 1 0 0 1]\n"
     ]
    },
    {
     "name": "stderr",
     "output_type": "stream",
     "text": [
      "C:\\Users\\Beibarys Nyussupov\\anaconda3\\lib\\site-packages\\sklearn\\cluster\\_kmeans.py:1446: UserWarning: KMeans is known to have a memory leak on Windows with MKL, when there are less chunks than available threads. You can avoid it by setting the environment variable OMP_NUM_THREADS=1.\n",
      "  warnings.warn(\n"
     ]
    }
   ],
   "source": [
    "# clustering model\n",
    "model_clusters = KMeans(n_clusters = 3, random_state = 1042)\n",
    "\n",
    "# cluster labels with reduced data\n",
    "cluster_labels = model_clusters.fit_predict(data)\n",
    "\n",
    "\n",
    "# cluster classes for observations\n",
    "print(cluster_labels[0:10])"
   ]
  },
  {
   "cell_type": "code",
   "execution_count": 102,
   "metadata": {
    "colab": {
     "base_uri": "https://localhost:8080/",
     "height": 716
    },
    "id": "RQTQTA5m2xrO",
    "outputId": "0ace7e3e-e104-4782-97da-eae37c32ce67"
   },
   "outputs": [
    {
     "data": {
      "text/plain": [
       "Text(0.5, 1.0, 'K-Means Clustering Results with K=3')"
      ]
     },
     "execution_count": 102,
     "metadata": {},
     "output_type": "execute_result"
    },
    {
     "data": {
      "image/png": "[encoded data removed]",
      "text/plain": [
       "<Figure size 1000x800 with 1 Axes>"
      ]
     },
     "metadata": {},
     "output_type": "display_data"
    }
   ],
   "source": [
    "# initial plot without centroids\n",
    "ig, ax = plt.subplots(1, 1, figsize=(10,8))\n",
    "ax.scatter(data[:,0], data[:,1], c=cluster_labels)\n",
    "ax.set_title(\"K-Means Clustering Results with K=3\")"
   ]
  },
  {
   "cell_type": "markdown",
   "metadata": {
    "id": "usFOCG5Ki9ao"
   },
   "source": [
    "With 16 components and 3 clusters, it is clear that some green and purple groups are overlapping. I want to try and to cluster groups in a better and more distinct clusters.\n",
    "\n",
    "I assume that such overlapping might be related to noise and to a number of components, as I only saved 91% of explained data variance. Now I will use 18 components with 3 clusters with 93% of explained data variance to see if it is going to improve the clustering process."
   ]
  },
  {
   "cell_type": "code",
   "execution_count": 103,
   "metadata": {
    "id": "bnHnnyD3jjSP"
   },
   "outputs": [],
   "source": [
    "# fit main data to pca with 18 components\n",
    "pca = PCA(n_components = 18)\n",
    "data = pca.fit_transform(fundamentals_norm)"
   ]
  },
  {
   "cell_type": "code",
   "execution_count": 104,
   "metadata": {
    "colab": {
     "base_uri": "https://localhost:8080/"
    },
    "id": "-Lmi53PdkYRp",
    "outputId": "9adbae27-22a4-4780-9c42-a1b9eedfe04a"
   },
   "outputs": [
    {
     "name": "stdout",
     "output_type": "stream",
     "text": [
      "[0 0 0 0 0 1 1 0 0 1]\n"
     ]
    },
    {
     "name": "stderr",
     "output_type": "stream",
     "text": [
      "C:\\Users\\Beibarys Nyussupov\\anaconda3\\lib\\site-packages\\sklearn\\cluster\\_kmeans.py:1446: UserWarning: KMeans is known to have a memory leak on Windows with MKL, when there are less chunks than available threads. You can avoid it by setting the environment variable OMP_NUM_THREADS=1.\n",
      "  warnings.warn(\n"
     ]
    }
   ],
   "source": [
    "# clustering model\n",
    "model_clusters = KMeans(n_clusters = 3, random_state = 1042)\n",
    "\n",
    "# cluster labels with reduced data\n",
    "cluster_labels = model_clusters.fit_predict(data)\n",
    "\n",
    "\n",
    "# cluster classes for observations\n",
    "print(cluster_labels[0:10])"
   ]
  },
  {
   "cell_type": "code",
   "execution_count": 105,
   "metadata": {
    "colab": {
     "base_uri": "https://localhost:8080/",
     "height": 716
    },
    "id": "OeddLC6blJWz",
    "outputId": "ab6782c1-e783-4b5f-cc2c-fc78246be5b4"
   },
   "outputs": [
    {
     "data": {
      "text/plain": [
       "Text(0.5, 1.0, 'K-Means Clustering Results with K=3')"
      ]
     },
     "execution_count": 105,
     "metadata": {},
     "output_type": "execute_result"
    },
    {
     "data": {
      "image/png": "[encoded data removed]",
      "text/plain": [
       "<Figure size 1000x800 with 1 Axes>"
      ]
     },
     "metadata": {},
     "output_type": "display_data"
    }
   ],
   "source": [
    "# initial plot without centroids\n",
    "ig, ax = plt.subplots(1, 1, figsize=(10,8))\n",
    "ax.scatter(data[:,0], data[:,1], c=cluster_labels)\n",
    "ax.set_title(\"K-Means Clustering Results with K=3\")"
   ]
  },
  {
   "cell_type": "markdown",
   "metadata": {
    "id": "5G7fmYBimd6i"
   },
   "source": [
    "K-Means Clustering with 18 components and 3 clusters has still overlaps and I don't see any change. It might be due to the noise in the data. What if I decrease number of components to 14 with 86% of captured data variance."
   ]
  },
  {
   "cell_type": "code",
   "execution_count": 118,
   "metadata": {},
   "outputs": [],
   "source": [
    "# fit main data to pca with 14 components\n",
    "pca = PCA(n_components = 14)\n",
    "data = pca.fit_transform(fundamentals_norm)"
   ]
  },
  {
   "cell_type": "code",
   "execution_count": 119,
   "metadata": {},
   "outputs": [
    {
     "name": "stdout",
     "output_type": "stream",
     "text": [
      "[0 0 0 0 0 1 1 0 0 1]\n"
     ]
    },
    {
     "name": "stderr",
     "output_type": "stream",
     "text": [
      "C:\\Users\\Beibarys Nyussupov\\anaconda3\\lib\\site-packages\\sklearn\\cluster\\_kmeans.py:1446: UserWarning: KMeans is known to have a memory leak on Windows with MKL, when there are less chunks than available threads. You can avoid it by setting the environment variable OMP_NUM_THREADS=1.\n",
      "  warnings.warn(\n"
     ]
    }
   ],
   "source": [
    "# clustering model\n",
    "model_clusters = KMeans(n_clusters = 3, random_state = 1042)\n",
    "\n",
    "# cluster labels with reduced data\n",
    "cluster_labels = model_clusters.fit_predict(data)\n",
    "\n",
    "\n",
    "# cluster classes for observations\n",
    "print(cluster_labels[0:10])"
   ]
  },
  {
   "cell_type": "code",
   "execution_count": 120,
   "metadata": {},
   "outputs": [
    {
     "data": {
      "text/plain": [
       "Text(0.5, 1.0, 'K-Means Clustering Results with K=3')"
      ]
     },
     "execution_count": 120,
     "metadata": {},
     "output_type": "execute_result"
    },
    {
     "data": {
      "image/png": "[encoded data removed]",
      "text/plain": [
       "<Figure size 1000x800 with 1 Axes>"
      ]
     },
     "metadata": {},
     "output_type": "display_data"
    }
   ],
   "source": [
    "# initial plot without centroids\n",
    "ig, ax = plt.subplots(1, 1, figsize=(10,8))\n",
    "ax.scatter(data[:,0], data[:,1], c=cluster_labels)\n",
    "ax.set_title(\"K-Means Clustering Results with K=3\")"
   ]
  },
  {
   "cell_type": "markdown",
   "metadata": {},
   "source": [
    "Now it can be seen that with 14 components and 86% of captured data variance, there are 3 distinct groups: \n",
    "\n",
    "    1) Purple\n",
    "    \n",
    "    2) Green \n",
    "    \n",
    "    3) Yellow\n",
    "\n",
    "The last step will be to generate center clusters for each group. "
   ]
  },
  {
   "cell_type": "markdown",
   "metadata": {
    "id": "Vznuf1Y69PPI"
   },
   "source": [
    "### Generate Clusters for each cluster group"
   ]
  },
  {
   "cell_type": "code",
   "execution_count": 122,
   "metadata": {
    "id": "4-W--TR7CxHs"
   },
   "outputs": [],
   "source": [
    "# data with our clusters\n",
    "data\n",
    "\n",
    "# define clusters in the data\n",
    "centroids = model_clusters.cluster_centers_\n"
   ]
  },
  {
   "cell_type": "code",
   "execution_count": 123,
   "metadata": {
    "colab": {
     "base_uri": "https://localhost:8080/",
     "height": 858
    },
    "id": "CgngXPkD8O2n",
    "outputId": "cef017a0-239d-4999-b61f-45d8a78ae298"
   },
   "outputs": [
    {
     "data": {
      "image/png": "[encoded data removed]",
      "text/plain": [
       "<Figure size 1200x1000 with 1 Axes>"
      ]
     },
     "metadata": {},
     "output_type": "display_data"
    }
   ],
   "source": [
    "# data with each cluster as unique value\n",
    "each_cluster = np.unique(cluster_labels)\n",
    "\n",
    "# figure size\n",
    "plt.figure(figsize = (12, 10))\n",
    "\n",
    "for cluster in each_cluster:\n",
    "    # Filter by each cluster\n",
    "    cluster_data = data[cluster_labels == cluster]\n",
    "\n",
    "    # Plot the data points\n",
    "    plt.scatter(cluster_data[:, 0], cluster_data[:, 1], label=f\"Cluster {cluster}\", alpha=0.5)\n",
    "\n",
    "# Plot centroids\n",
    "plt.scatter(centroids[:, 0], centroids[:, 1], marker='*', s=250, c='black', label='Centroids')\n",
    "\n",
    "# parameters\n",
    "## title\n",
    "plt.title('K-Means Clustering Results with K=3 and centroids', fontweight = 'bold', fontsize = 18)\n",
    "\n",
    "## legend\n",
    "plt.legend(fontsize = 16)\n",
    "\n",
    "## grid\n",
    "plt.grid(True)\n",
    "\n",
    "# show the plot\n",
    "plt.show()\n"
   ]
  },
  {
   "cell_type": "markdown",
   "metadata": {},
   "source": [
    "Or I could create a 3d plot to look on cluster groups better if needed. "
   ]
  },
  {
   "cell_type": "code",
   "execution_count": 129,
   "metadata": {
    "id": "BJ9VTmP-EMkw"
   },
   "outputs": [
    {
     "data": {
      "application/vnd.plotly.v1+json": {
       "config": {
        "plotlyServerURL": "https://plot.ly"
       },
       "data": [
        {
         "hovertemplate": "x=%{x}<br>y=%{y}<br>z=%{z}<br>color=%{marker.color}<extra></extra>",
         "legendgroup": "",
         "marker": {
          "color": [
           0,
           0,
           0,
           0,
           0,
           1,
           1,
           0,
           0,
           1,
           0,
           0,
           0,
           0,
           0,
           0,
           0,
           0,
           0,
           0,
           0,
           0,
           0,
           0,
           1,
           0,
           0,
           0,
           0,
           0,
           0,
           0,
           0,
           0,
           0,
           0,
           0,
           0,
           2,
           0,
           1,
           0,
           0,
           0,
           0,
           0,
           2,
           0,
           0,
           0,
           0,
           0,
           0,
           1,
           0,
           0,
           0,
           0,
           0,
           0,
           0,
           0,
           0,
           0,
           0,
           0,
           0,
           0,
           0,
           0,
           0,
           0,
           1,
           0,
           0,
           0,
           1,
           0,
           0,
           0,
           0,
           0,
           0,
           0,
           0,
           0,
           0,
           0,
           0,
           0,
           0,
           1,
           0,
           1,
           0,
           0,
           0,
           0,
           0
          ],
          "coloraxis": "coloraxis",
          "size": 5,
          "symbol": "circle"
         },
         "mode": "markers",
         "name": "",
         "scene": "scene",
         "showlegend": false,
         "type": "scatter3d",
         "x": [
          -2.144468764148167,
          -2.3559982847860814,
          -2.754242714468345,
          -3.532757488048044,
          -2.800413083745651,
          6.309547388672548,
          9.34818377521821,
          -2.3550705657781106,
          -2.8634491455191373,
          7.533683449204633,
          -3.2344699374443135,
          -3.3039285298483345,
          -0.405903684359314,
          -2.7687663184060107,
          1.9653961664919097,
          -0.6036338176658832,
          -2.940812814497811,
          5.164316711046094,
          -1.9164202530327012,
          -3.388833206855853,
          -1.2203730570502411,
          -2.07813631387169,
          -0.6829602195957021,
          -2.9757130072167426,
          8.048095912769076,
          2.8534748187992314,
          1.0550921898289036,
          -1.7460645163134212,
          -1.7460645163134212,
          -2.046024745167083,
          -2.533928987889747,
          -2.6984690780262364,
          -3.3192105304327915,
          -0.13860970295068595,
          -0.6472172429886645,
          -2.9434850993214074,
          5.194410246173933,
          -2.237036145462186,
          20.280020199605943,
          -3.313047873875067,
          6.877011576226613,
          -2.5445491329608236,
          -3.228492941801604,
          -3.5720462058331135,
          0.5644088942955883,
          0.23856894339202978,
          20.84388924148038,
          -1.7054035326084658,
          -5.017507866199853,
          -2.8720582479137517,
          -2.770263068582638,
          3.16983452892289,
          -1.346119052974479,
          12.360763047128744,
          -3.1312839209994485,
          -1.0210538016049262,
          -1.0974671794729063,
          0.882080148856524,
          -3.184350155466167,
          2.2175586044265345,
          -0.45120756839223125,
          0.21988919247886174,
          -2.8990700121833366,
          2.43866024352764,
          -2.525753789330205,
          -3.3710521126754953,
          -3.269902358462129,
          -2.1990384710314133,
          -2.424556763212047,
          -0.871118730913321,
          -1.1369541807870174,
          1.458520160173824,
          7.653130333547212,
          1.5501332301992645,
          -2.708456387043885,
          -2.7697090431049096,
          5.426703439456045,
          -1.758332433924571,
          -0.004824132446898646,
          -2.571081237574001,
          -2.708456387043885,
          -3.3119164064543365,
          -2.10079437663328,
          -2.836634711037796,
          -3.16827694137214,
          -1.6444980655139514,
          2.0641986219722286,
          -1.9368453976530473,
          -1.3587005002862524,
          -0.46903744525502755,
          2.553807158388728,
          10.440022786048635,
          2.607640873668586,
          6.598590123560466,
          -2.109423951829286,
          -2.3896557420117377,
          -1.4600883124521322,
          -1.4132309366650353,
          -2.8629108587748493
         ],
         "y": [
          1.5770924289084343,
          -1.6113380801683792,
          -1.1008068200594308,
          -0.3080243660337601,
          0.9584260325655488,
          6.634877172765945,
          -1.4620600871343683,
          -1.559243078243786,
          -2.1682708795511028,
          1.6310762180145173,
          0.3280780033339658,
          -0.12411807406556463,
          3.5363187717366142,
          -1.3590619487355364,
          -2.460663065134366,
          3.1114210065130767,
          0.43795761119804516,
          -4.668586518673916,
          -3.061363601806063,
          -0.857712977409764,
          -0.11626197492592512,
          -1.2274887140549513,
          0.42407324558314174,
          -0.03444956942207793,
          2.0259638161682134,
          1.3351000023326138,
          0.4871693933092563,
          0.789839103618478,
          0.789839103618478,
          -0.5866776869740533,
          -0.8603086584677474,
          0.6666082175243404,
          -2.087561051604093,
          3.684913722746862,
          -1.1876802013441596,
          -0.7255802057218433,
          -3.1786539559690388,
          -1.072006512481064,
          -9.896004311416794,
          0.8012355642220659,
          12.496093148965247,
          -1.4415955610198203,
          -0.9397754740434471,
          -0.2922470442874514,
          0.6627449161579742,
          2.552639381902962,
          -5.023411241462035,
          -0.9648653265174443,
          -2.198464554268149,
          -0.7119921659967829,
          -0.34612876110642277,
          1.4358058331810992,
          -1.5088489277051016,
          5.9832295531426345,
          2.6558508617769925,
          1.3539743821930748,
          0.6535234653825827,
          -1.1585562292502556,
          0.004226956081151377,
          0.3443759508115321,
          0.8111904371827857,
          4.086854625572323,
          -0.35643403809563806,
          3.351753368840053,
          -1.211104444626031,
          -0.08994556030191476,
          -0.4496988450481839,
          -1.6161045823849158,
          -0.39095192469717704,
          0.2543874351327023,
          -0.7702213273996453,
          -2.2899768993862257,
          2.65537474745077,
          -5.186475945939649,
          1.2738687536867024,
          -1.2068329071732289,
          2.213032790444,
          -0.3102579650079845,
          -0.2509041437855591,
          -1.5969685411154533,
          1.2738687536867024,
          -0.4537121934449133,
          -0.7505886717257836,
          -0.8935342093958711,
          -0.05522631335597531,
          2.823146986493703,
          -6.2600292915501985,
          -0.3882341466452817,
          0.5301635899764741,
          0.14786003733358485,
          -0.41074223962951023,
          2.7290208594505274,
          2.439929357871182,
          1.8644952336821814,
          -0.44611635301716873,
          -1.1314122139074723,
          -1.311381813022483,
          -0.41855215706600984,
          0.7278135122184279
         ],
         "z": [
          -0.734652488047147,
          1.267015190485686,
          0.41435194066002107,
          0.11338651944439501,
          -1.217042565688949,
          -3.930200848618435,
          1.513434704016426,
          1.3956494559621613,
          -4.389581108231892,
          9.202088789275276,
          -0.4757902413983811,
          -0.9444084714587606,
          -1.1977462646061652,
          0.8769355813069462,
          1.5973074289542946,
          -1.0336600586001075,
          -0.3831223496810536,
          -6.248903366098362,
          1.2781944283143059,
          0.6571286399129577,
          1.0012486999191303,
          -0.347994585828466,
          -0.8097772071342088,
          -0.2171992565825625,
          5.1337468176884204,
          1.53790199268107,
          1.2756286203984848,
          -0.1507102035521551,
          -0.1507102035521551,
          0.851423803647106,
          0.44819395198455786,
          -0.6267164976651185,
          -3.293875543711773,
          -1.7855391284147157,
          -1.1754872355571655,
          -2.0625943136192184,
          -2.846486812696177,
          0.2978467885194055,
          -5.627168610456017,
          -0.8070009248025777,
          -6.903843792301008,
          0.93715912486552,
          0.5656335313003034,
          -0.8999091938261596,
          2.4033972982387426,
          -0.357790424359998,
          -3.502447597528934,
          0.7914979572498851,
          -2.279396959787217,
          0.31635063511645434,
          -0.8259481481643253,
          1.7723728220330026,
          1.7832135776971645,
          -2.989931804268851,
          -2.8622168960689076,
          1.1369696615374638,
          3.0890849895694052,
          -1.5277305063230513,
          -0.7393443050983264,
          3.0635206007532805,
          0.6775383106434617,
          -0.08682050742998437,
          0.460557798776874,
          2.607756551639233,
          0.6087093145543029,
          0.025762923435632194,
          -2.3225090705910745,
          -0.1493082318158343,
          -0.16068750582540137,
          -0.8314727181036059,
          1.2012564797875935,
          -1.8027280888656652,
          2.983555087865719,
          1.885706088017566,
          -1.0910352159682644,
          0.7172785512154191,
          4.542177088764386,
          1.39068698922638,
          -1.2434000244582912,
          0.39133526818060227,
          -1.0910352159682644,
          0.16595391079177688,
          0.3520227927218494,
          0.6762066369252409,
          -0.17032709677108637,
          -0.7240375325441698,
          4.102564156122172,
          0.4482087159558428,
          -0.8180782491016035,
          -3.7942648328518103,
          2.5922775022988165,
          5.054938431066237,
          0.11670336080682882,
          3.165426083519655,
          -1.2143684883936354,
          -1.0432851094276256,
          1.0727784069572683,
          0.4788038702026172,
          -0.5506020691626666
         ]
        }
       ],
       "layout": {
        "coloraxis": {
         "colorbar": {
          "title": {
           "text": "color"
          }
         },
         "colorscale": [
          [
           0,
           "#0d0887"
          ],
          [
           0.1111111111111111,
           "#46039f"
          ],
          [
           0.2222222222222222,
           "#7201a8"
          ],
          [
           0.3333333333333333,
           "#9c179e"
          ],
          [
           0.4444444444444444,
           "#bd3786"
          ],
          [
           0.5555555555555556,
           "#d8576b"
          ],
          [
           0.6666666666666666,
           "#ed7953"
          ],
          [
           0.7777777777777778,
           "#fb9f3a"
          ],
          [
           0.8888888888888888,
           "#fdca26"
          ],
          [
           1,
           "#f0f921"
          ]
         ]
        },
        "legend": {
         "tracegroupgap": 0
        },
        "margin": {
         "t": 60
        },
        "scene": {
         "domain": {
          "x": [
           0,
           1
          ],
          "y": [
           0,
           1
          ]
         },
         "xaxis": {
          "title": {
           "text": "x"
          }
         },
         "yaxis": {
          "title": {
           "text": "y"
          }
         },
         "zaxis": {
          "title": {
           "text": "z"
          }
         }
        },
        "template": {
         "data": {
          "bar": [
           {
            "error_x": {
             "color": "#2a3f5f"
            },
            "error_y": {
             "color": "#2a3f5f"
            },
            "marker": {
             "line": {
              "color": "#E5ECF6",
              "width": 0.5
             },
             "pattern": {
              "fillmode": "overlay",
              "size": 10,
              "solidity": 0.2
             }
            },
            "type": "bar"
           }
          ],
          "barpolar": [
           {
            "marker": {
             "line": {
              "color": "#E5ECF6",
              "width": 0.5
             },
             "pattern": {
              "fillmode": "overlay",
              "size": 10,
              "solidity": 0.2
             }
            },
            "type": "barpolar"
           }
          ],
          "carpet": [
           {
            "aaxis": {
             "endlinecolor": "#2a3f5f",
             "gridcolor": "white",
             "linecolor": "white",
             "minorgridcolor": "white",
             "startlinecolor": "#2a3f5f"
            },
            "baxis": {
             "endlinecolor": "#2a3f5f",
             "gridcolor": "white",
             "linecolor": "white",
             "minorgridcolor": "white",
             "startlinecolor": "#2a3f5f"
            },
            "type": "carpet"
           }
          ],
          "choropleth": [
           {
            "colorbar": {
             "outlinewidth": 0,
             "ticks": ""
            },
            "type": "choropleth"
           }
          ],
          "contour": [
           {
            "colorbar": {
             "outlinewidth": 0,
             "ticks": ""
            },
            "colorscale": [
             [
              0,
              "#0d0887"
             ],
             [
              0.1111111111111111,
              "#46039f"
             ],
             [
              0.2222222222222222,
              "#7201a8"
             ],
             [
              0.3333333333333333,
              "#9c179e"
             ],
             [
              0.4444444444444444,
              "#bd3786"
             ],
             [
              0.5555555555555556,
              "#d8576b"
             ],
             [
              0.6666666666666666,
              "#ed7953"
             ],
             [
              0.7777777777777778,
              "#fb9f3a"
             ],
             [
              0.8888888888888888,
              "#fdca26"
             ],
             [
              1,
              "#f0f921"
             ]
            ],
            "type": "contour"
           }
          ],
          "contourcarpet": [
           {
            "colorbar": {
             "outlinewidth": 0,
             "ticks": ""
            },
            "type": "contourcarpet"
           }
          ],
          "heatmap": [
           {
            "colorbar": {
             "outlinewidth": 0,
             "ticks": ""
            },
            "colorscale": [
             [
              0,
              "#0d0887"
             ],
             [
              0.1111111111111111,
              "#46039f"
             ],
             [
              0.2222222222222222,
              "#7201a8"
             ],
             [
              0.3333333333333333,
              "#9c179e"
             ],
             [
              0.4444444444444444,
              "#bd3786"
             ],
             [
              0.5555555555555556,
              "#d8576b"
             ],
             [
              0.6666666666666666,
              "#ed7953"
             ],
             [
              0.7777777777777778,
              "#fb9f3a"
             ],
             [
              0.8888888888888888,
              "#fdca26"
             ],
             [
              1,
              "#f0f921"
             ]
            ],
            "type": "heatmap"
           }
          ],
          "heatmapgl": [
           {
            "colorbar": {
             "outlinewidth": 0,
             "ticks": ""
            },
            "colorscale": [
             [
              0,
              "#0d0887"
             ],
             [
              0.1111111111111111,
              "#46039f"
             ],
             [
              0.2222222222222222,
              "#7201a8"
             ],
             [
              0.3333333333333333,
              "#9c179e"
             ],
             [
              0.4444444444444444,
              "#bd3786"
             ],
             [
              0.5555555555555556,
              "#d8576b"
             ],
             [
              0.6666666666666666,
              "#ed7953"
             ],
             [
              0.7777777777777778,
              "#fb9f3a"
             ],
             [
              0.8888888888888888,
              "#fdca26"
             ],
             [
              1,
              "#f0f921"
             ]
            ],
            "type": "heatmapgl"
           }
          ],
          "histogram": [
           {
            "marker": {
             "pattern": {
              "fillmode": "overlay",
              "size": 10,
              "solidity": 0.2
             }
            },
            "type": "histogram"
           }
          ],
          "histogram2d": [
           {
            "colorbar": {
             "outlinewidth": 0,
             "ticks": ""
            },
            "colorscale": [
             [
              0,
              "#0d0887"
             ],
             [
              0.1111111111111111,
              "#46039f"
             ],
             [
              0.2222222222222222,
              "#7201a8"
             ],
             [
              0.3333333333333333,
              "#9c179e"
             ],
             [
              0.4444444444444444,
              "#bd3786"
             ],
             [
              0.5555555555555556,
              "#d8576b"
             ],
             [
              0.6666666666666666,
              "#ed7953"
             ],
             [
              0.7777777777777778,
              "#fb9f3a"
             ],
             [
              0.8888888888888888,
              "#fdca26"
             ],
             [
              1,
              "#f0f921"
             ]
            ],
            "type": "histogram2d"
           }
          ],
          "histogram2dcontour": [
           {
            "colorbar": {
             "outlinewidth": 0,
             "ticks": ""
            },
            "colorscale": [
             [
              0,
              "#0d0887"
             ],
             [
              0.1111111111111111,
              "#46039f"
             ],
             [
              0.2222222222222222,
              "#7201a8"
             ],
             [
              0.3333333333333333,
              "#9c179e"
             ],
             [
              0.4444444444444444,
              "#bd3786"
             ],
             [
              0.5555555555555556,
              "#d8576b"
             ],
             [
              0.6666666666666666,
              "#ed7953"
             ],
             [
              0.7777777777777778,
              "#fb9f3a"
             ],
             [
              0.8888888888888888,
              "#fdca26"
             ],
             [
              1,
              "#f0f921"
             ]
            ],
            "type": "histogram2dcontour"
           }
          ],
          "mesh3d": [
           {
            "colorbar": {
             "outlinewidth": 0,
             "ticks": ""
            },
            "type": "mesh3d"
           }
          ],
          "parcoords": [
           {
            "line": {
             "colorbar": {
              "outlinewidth": 0,
              "ticks": ""
             }
            },
            "type": "parcoords"
           }
          ],
          "pie": [
           {
            "automargin": true,
            "type": "pie"
           }
          ],
          "scatter": [
           {
            "fillpattern": {
             "fillmode": "overlay",
             "size": 10,
             "solidity": 0.2
            },
            "type": "scatter"
           }
          ],
          "scatter3d": [
           {
            "line": {
             "colorbar": {
              "outlinewidth": 0,
              "ticks": ""
             }
            },
            "marker": {
             "colorbar": {
              "outlinewidth": 0,
              "ticks": ""
             }
            },
            "type": "scatter3d"
           }
          ],
          "scattercarpet": [
           {
            "marker": {
             "colorbar": {
              "outlinewidth": 0,
              "ticks": ""
             }
            },
            "type": "scattercarpet"
           }
          ],
          "scattergeo": [
           {
            "marker": {
             "colorbar": {
              "outlinewidth": 0,
              "ticks": ""
             }
            },
            "type": "scattergeo"
           }
          ],
          "scattergl": [
           {
            "marker": {
             "colorbar": {
              "outlinewidth": 0,
              "ticks": ""
             }
            },
            "type": "scattergl"
           }
          ],
          "scattermapbox": [
           {
            "marker": {
             "colorbar": {
              "outlinewidth": 0,
              "ticks": ""
             }
            },
            "type": "scattermapbox"
           }
          ],
          "scatterpolar": [
           {
            "marker": {
             "colorbar": {
              "outlinewidth": 0,
              "ticks": ""
             }
            },
            "type": "scatterpolar"
           }
          ],
          "scatterpolargl": [
           {
            "marker": {
             "colorbar": {
              "outlinewidth": 0,
              "ticks": ""
             }
            },
            "type": "scatterpolargl"
           }
          ],
          "scatterternary": [
           {
            "marker": {
             "colorbar": {
              "outlinewidth": 0,
              "ticks": ""
             }
            },
            "type": "scatterternary"
           }
          ],
          "surface": [
           {
            "colorbar": {
             "outlinewidth": 0,
             "ticks": ""
            },
            "colorscale": [
             [
              0,
              "#0d0887"
             ],
             [
              0.1111111111111111,
              "#46039f"
             ],
             [
              0.2222222222222222,
              "#7201a8"
             ],
             [
              0.3333333333333333,
              "#9c179e"
             ],
             [
              0.4444444444444444,
              "#bd3786"
             ],
             [
              0.5555555555555556,
              "#d8576b"
             ],
             [
              0.6666666666666666,
              "#ed7953"
             ],
             [
              0.7777777777777778,
              "#fb9f3a"
             ],
             [
              0.8888888888888888,
              "#fdca26"
             ],
             [
              1,
              "#f0f921"
             ]
            ],
            "type": "surface"
           }
          ],
          "table": [
           {
            "cells": {
             "fill": {
              "color": "#EBF0F8"
             },
             "line": {
              "color": "white"
             }
            },
            "header": {
             "fill": {
              "color": "#C8D4E3"
             },
             "line": {
              "color": "white"
             }
            },
            "type": "table"
           }
          ]
         },
         "layout": {
          "annotationdefaults": {
           "arrowcolor": "#2a3f5f",
           "arrowhead": 0,
           "arrowwidth": 1
          },
          "autotypenumbers": "strict",
          "coloraxis": {
           "colorbar": {
            "outlinewidth": 0,
            "ticks": ""
           }
          },
          "colorscale": {
           "diverging": [
            [
             0,
             "#8e0152"
            ],
            [
             0.1,
             "#c51b7d"
            ],
            [
             0.2,
             "#de77ae"
            ],
            [
             0.3,
             "#f1b6da"
            ],
            [
             0.4,
             "#fde0ef"
            ],
            [
             0.5,
             "#f7f7f7"
            ],
            [
             0.6,
             "#e6f5d0"
            ],
            [
             0.7,
             "#b8e186"
            ],
            [
             0.8,
             "#7fbc41"
            ],
            [
             0.9,
             "#4d9221"
            ],
            [
             1,
             "#276419"
            ]
           ],
           "sequential": [
            [
             0,
             "#0d0887"
            ],
            [
             0.1111111111111111,
             "#46039f"
            ],
            [
             0.2222222222222222,
             "#7201a8"
            ],
            [
             0.3333333333333333,
             "#9c179e"
            ],
            [
             0.4444444444444444,
             "#bd3786"
            ],
            [
             0.5555555555555556,
             "#d8576b"
            ],
            [
             0.6666666666666666,
             "#ed7953"
            ],
            [
             0.7777777777777778,
             "#fb9f3a"
            ],
            [
             0.8888888888888888,
             "#fdca26"
            ],
            [
             1,
             "#f0f921"
            ]
           ],
           "sequentialminus": [
            [
             0,
             "#0d0887"
            ],
            [
             0.1111111111111111,
             "#46039f"
            ],
            [
             0.2222222222222222,
             "#7201a8"
            ],
            [
             0.3333333333333333,
             "#9c179e"
            ],
            [
             0.4444444444444444,
             "#bd3786"
            ],
            [
             0.5555555555555556,
             "#d8576b"
            ],
            [
             0.6666666666666666,
             "#ed7953"
            ],
            [
             0.7777777777777778,
             "#fb9f3a"
            ],
            [
             0.8888888888888888,
             "#fdca26"
            ],
            [
             1,
             "#f0f921"
            ]
           ]
          },
          "colorway": [
           "#636efa",
           "#EF553B",
           "#00cc96",
           "#ab63fa",
           "#FFA15A",
           "#19d3f3",
           "#FF6692",
           "#B6E880",
           "#FF97FF",
           "#FECB52"
          ],
          "font": {
           "color": "#2a3f5f"
          },
          "geo": {
           "bgcolor": "white",
           "lakecolor": "white",
           "landcolor": "#E5ECF6",
           "showlakes": true,
           "showland": true,
           "subunitcolor": "white"
          },
          "hoverlabel": {
           "align": "left"
          },
          "hovermode": "closest",
          "mapbox": {
           "style": "light"
          },
          "paper_bgcolor": "white",
          "plot_bgcolor": "#E5ECF6",
          "polar": {
           "angularaxis": {
            "gridcolor": "white",
            "linecolor": "white",
            "ticks": ""
           },
           "bgcolor": "#E5ECF6",
           "radialaxis": {
            "gridcolor": "white",
            "linecolor": "white",
            "ticks": ""
           }
          },
          "scene": {
           "xaxis": {
            "backgroundcolor": "#E5ECF6",
            "gridcolor": "white",
            "gridwidth": 2,
            "linecolor": "white",
            "showbackground": true,
            "ticks": "",
            "zerolinecolor": "white"
           },
           "yaxis": {
            "backgroundcolor": "#E5ECF6",
            "gridcolor": "white",
            "gridwidth": 2,
            "linecolor": "white",
            "showbackground": true,
            "ticks": "",
            "zerolinecolor": "white"
           },
           "zaxis": {
            "backgroundcolor": "#E5ECF6",
            "gridcolor": "white",
            "gridwidth": 2,
            "linecolor": "white",
            "showbackground": true,
            "ticks": "",
            "zerolinecolor": "white"
           }
          },
          "shapedefaults": {
           "line": {
            "color": "#2a3f5f"
           }
          },
          "ternary": {
           "aaxis": {
            "gridcolor": "white",
            "linecolor": "white",
            "ticks": ""
           },
           "baxis": {
            "gridcolor": "white",
            "linecolor": "white",
            "ticks": ""
           },
           "bgcolor": "#E5ECF6",
           "caxis": {
            "gridcolor": "white",
            "linecolor": "white",
            "ticks": ""
           }
          },
          "title": {
           "x": 0.05
          },
          "xaxis": {
           "automargin": true,
           "gridcolor": "white",
           "linecolor": "white",
           "ticks": "",
           "title": {
            "standoff": 15
           },
           "zerolinecolor": "white",
           "zerolinewidth": 2
          },
          "yaxis": {
           "automargin": true,
           "gridcolor": "white",
           "linecolor": "white",
           "ticks": "",
           "title": {
            "standoff": 15
           },
           "zerolinecolor": "white",
           "zerolinewidth": 2
          }
         }
        },
        "title": {
         "text": "3D K-Means Clustering Results with K=3"
        }
       }
      },
      "text/html": [
       "<div>                            <div id=\"a5025b0d-1249-438d-8c3f-5382e37f3ee5\" class=\"plotly-graph-div\" style=\"height:525px; width:100%;\"></div>            <script type=\"text/javascript\">                require([\"plotly\"], function(Plotly) {                    window.PLOTLYENV=window.PLOTLYENV || {};                                    if (document.getElementById(\"a5025b0d-1249-438d-8c3f-5382e37f3ee5\")) {                    Plotly.newPlot(                        \"a5025b0d-1249-438d-8c3f-5382e37f3ee5\",                        [{\"hovertemplate\":\"x=%{x}<br>y=%{y}<br>z=%{z}<br>color=%{marker.color}<extra></extra>\",\"legendgroup\":\"\",\"marker\":{\"color\":[0,0,0,0,0,1,1,0,0,1,0,0,0,0,0,0,0,0,0,0,0,0,0,0,1,0,0,0,0,0,0,0,0,0,0,0,0,0,2,0,1,0,0,0,0,0,2,0,0,0,0,0,0,1,0,0,0,0,0,0,0,0,0,0,0,0,0,0,0,0,0,0,1,0,0,0,1,0,0,0,0,0,0,0,0,0,0,0,0,0,0,1,0,1,0,0,0,0,0],\"coloraxis\":\"coloraxis\",\"symbol\":\"circle\",\"size\":5},\"mode\":\"markers\",\"name\":\"\",\"scene\":\"scene\",\"showlegend\":false,\"x\":[-2.144468764148167,-2.3559982847860814,-2.754242714468345,-3.532757488048044,-2.800413083745651,6.309547388672548,9.34818377521821,-2.3550705657781106,-2.8634491455191373,7.533683449204633,-3.2344699374443135,-3.3039285298483345,-0.405903684359314,-2.7687663184060107,1.9653961664919097,-0.6036338176658832,-2.940812814497811,5.164316711046094,-1.9164202530327012,-3.388833206855853,-1.2203730570502411,-2.07813631387169,-0.6829602195957021,-2.9757130072167426,8.048095912769076,2.8534748187992314,1.0550921898289036,-1.7460645163134212,-1.7460645163134212,-2.046024745167083,-2.533928987889747,-2.6984690780262364,-3.3192105304327915,-0.13860970295068595,-0.6472172429886645,-2.9434850993214074,5.194410246173933,-2.237036145462186,20.280020199605943,-3.313047873875067,6.877011576226613,-2.5445491329608236,-3.228492941801604,-3.5720462058331135,0.5644088942955883,0.23856894339202978,20.84388924148038,-1.7054035326084658,-5.017507866199853,-2.8720582479137517,-2.770263068582638,3.16983452892289,-1.346119052974479,12.360763047128744,-3.1312839209994485,-1.0210538016049262,-1.0974671794729063,0.882080148856524,-3.184350155466167,2.2175586044265345,-0.45120756839223125,0.21988919247886174,-2.8990700121833366,2.43866024352764,-2.525753789330205,-3.3710521126754953,-3.269902358462129,-2.1990384710314133,-2.424556763212047,-0.871118730913321,-1.1369541807870174,1.458520160173824,7.653130333547212,1.5501332301992645,-2.708456387043885,-2.7697090431049096,5.426703439456045,-1.758332433924571,-0.004824132446898646,-2.571081237574001,-2.708456387043885,-3.3119164064543365,-2.10079437663328,-2.836634711037796,-3.16827694137214,-1.6444980655139514,2.0641986219722286,-1.9368453976530473,-1.3587005002862524,-0.46903744525502755,2.553807158388728,10.440022786048635,2.607640873668586,6.598590123560466,-2.109423951829286,-2.3896557420117377,-1.4600883124521322,-1.4132309366650353,-2.8629108587748493],\"y\":[1.5770924289084343,-1.6113380801683792,-1.1008068200594308,-0.3080243660337601,0.9584260325655488,6.634877172765945,-1.4620600871343683,-1.559243078243786,-2.1682708795511028,1.6310762180145173,0.3280780033339658,-0.12411807406556463,3.5363187717366142,-1.3590619487355364,-2.460663065134366,3.1114210065130767,0.43795761119804516,-4.668586518673916,-3.061363601806063,-0.857712977409764,-0.11626197492592512,-1.2274887140549513,0.42407324558314174,-0.03444956942207793,2.0259638161682134,1.3351000023326138,0.4871693933092563,0.789839103618478,0.789839103618478,-0.5866776869740533,-0.8603086584677474,0.6666082175243404,-2.087561051604093,3.684913722746862,-1.1876802013441596,-0.7255802057218433,-3.1786539559690388,-1.072006512481064,-9.896004311416794,0.8012355642220659,12.496093148965247,-1.4415955610198203,-0.9397754740434471,-0.2922470442874514,0.6627449161579742,2.552639381902962,-5.023411241462035,-0.9648653265174443,-2.198464554268149,-0.7119921659967829,-0.34612876110642277,1.4358058331810992,-1.5088489277051016,5.9832295531426345,2.6558508617769925,1.3539743821930748,0.6535234653825827,-1.1585562292502556,0.004226956081151377,0.3443759508115321,0.8111904371827857,4.086854625572323,-0.35643403809563806,3.351753368840053,-1.211104444626031,-0.08994556030191476,-0.4496988450481839,-1.6161045823849158,-0.39095192469717704,0.2543874351327023,-0.7702213273996453,-2.2899768993862257,2.65537474745077,-5.186475945939649,1.2738687536867024,-1.2068329071732289,2.213032790444,-0.3102579650079845,-0.2509041437855591,-1.5969685411154533,1.2738687536867024,-0.4537121934449133,-0.7505886717257836,-0.8935342093958711,-0.05522631335597531,2.823146986493703,-6.2600292915501985,-0.3882341466452817,0.5301635899764741,0.14786003733358485,-0.41074223962951023,2.7290208594505274,2.439929357871182,1.8644952336821814,-0.44611635301716873,-1.1314122139074723,-1.311381813022483,-0.41855215706600984,0.7278135122184279],\"z\":[-0.734652488047147,1.267015190485686,0.41435194066002107,0.11338651944439501,-1.217042565688949,-3.930200848618435,1.513434704016426,1.3956494559621613,-4.389581108231892,9.202088789275276,-0.4757902413983811,-0.9444084714587606,-1.1977462646061652,0.8769355813069462,1.5973074289542946,-1.0336600586001075,-0.3831223496810536,-6.248903366098362,1.2781944283143059,0.6571286399129577,1.0012486999191303,-0.347994585828466,-0.8097772071342088,-0.2171992565825625,5.1337468176884204,1.53790199268107,1.2756286203984848,-0.1507102035521551,-0.1507102035521551,0.851423803647106,0.44819395198455786,-0.6267164976651185,-3.293875543711773,-1.7855391284147157,-1.1754872355571655,-2.0625943136192184,-2.846486812696177,0.2978467885194055,-5.627168610456017,-0.8070009248025777,-6.903843792301008,0.93715912486552,0.5656335313003034,-0.8999091938261596,2.4033972982387426,-0.357790424359998,-3.502447597528934,0.7914979572498851,-2.279396959787217,0.31635063511645434,-0.8259481481643253,1.7723728220330026,1.7832135776971645,-2.989931804268851,-2.8622168960689076,1.1369696615374638,3.0890849895694052,-1.5277305063230513,-0.7393443050983264,3.0635206007532805,0.6775383106434617,-0.08682050742998437,0.460557798776874,2.607756551639233,0.6087093145543029,0.025762923435632194,-2.3225090705910745,-0.1493082318158343,-0.16068750582540137,-0.8314727181036059,1.2012564797875935,-1.8027280888656652,2.983555087865719,1.885706088017566,-1.0910352159682644,0.7172785512154191,4.542177088764386,1.39068698922638,-1.2434000244582912,0.39133526818060227,-1.0910352159682644,0.16595391079177688,0.3520227927218494,0.6762066369252409,-0.17032709677108637,-0.7240375325441698,4.102564156122172,0.4482087159558428,-0.8180782491016035,-3.7942648328518103,2.5922775022988165,5.054938431066237,0.11670336080682882,3.165426083519655,-1.2143684883936354,-1.0432851094276256,1.0727784069572683,0.4788038702026172,-0.5506020691626666],\"type\":\"scatter3d\"}],                        {\"template\":{\"data\":{\"histogram2dcontour\":[{\"type\":\"histogram2dcontour\",\"colorbar\":{\"outlinewidth\":0,\"ticks\":\"\"},\"colorscale\":[[0.0,\"#0d0887\"],[0.1111111111111111,\"#46039f\"],[0.2222222222222222,\"#7201a8\"],[0.3333333333333333,\"#9c179e\"],[0.4444444444444444,\"#bd3786\"],[0.5555555555555556,\"#d8576b\"],[0.6666666666666666,\"#ed7953\"],[0.7777777777777778,\"#fb9f3a\"],[0.8888888888888888,\"#fdca26\"],[1.0,\"#f0f921\"]]}],\"choropleth\":[{\"type\":\"choropleth\",\"colorbar\":{\"outlinewidth\":0,\"ticks\":\"\"}}],\"histogram2d\":[{\"type\":\"histogram2d\",\"colorbar\":{\"outlinewidth\":0,\"ticks\":\"\"},\"colorscale\":[[0.0,\"#0d0887\"],[0.1111111111111111,\"#46039f\"],[0.2222222222222222,\"#7201a8\"],[0.3333333333333333,\"#9c179e\"],[0.4444444444444444,\"#bd3786\"],[0.5555555555555556,\"#d8576b\"],[0.6666666666666666,\"#ed7953\"],[0.7777777777777778,\"#fb9f3a\"],[0.8888888888888888,\"#fdca26\"],[1.0,\"#f0f921\"]]}],\"heatmap\":[{\"type\":\"heatmap\",\"colorbar\":{\"outlinewidth\":0,\"ticks\":\"\"},\"colorscale\":[[0.0,\"#0d0887\"],[0.1111111111111111,\"#46039f\"],[0.2222222222222222,\"#7201a8\"],[0.3333333333333333,\"#9c179e\"],[0.4444444444444444,\"#bd3786\"],[0.5555555555555556,\"#d8576b\"],[0.6666666666666666,\"#ed7953\"],[0.7777777777777778,\"#fb9f3a\"],[0.8888888888888888,\"#fdca26\"],[1.0,\"#f0f921\"]]}],\"heatmapgl\":[{\"type\":\"heatmapgl\",\"colorbar\":{\"outlinewidth\":0,\"ticks\":\"\"},\"colorscale\":[[0.0,\"#0d0887\"],[0.1111111111111111,\"#46039f\"],[0.2222222222222222,\"#7201a8\"],[0.3333333333333333,\"#9c179e\"],[0.4444444444444444,\"#bd3786\"],[0.5555555555555556,\"#d8576b\"],[0.6666666666666666,\"#ed7953\"],[0.7777777777777778,\"#fb9f3a\"],[0.8888888888888888,\"#fdca26\"],[1.0,\"#f0f921\"]]}],\"contourcarpet\":[{\"type\":\"contourcarpet\",\"colorbar\":{\"outlinewidth\":0,\"ticks\":\"\"}}],\"contour\":[{\"type\":\"contour\",\"colorbar\":{\"outlinewidth\":0,\"ticks\":\"\"},\"colorscale\":[[0.0,\"#0d0887\"],[0.1111111111111111,\"#46039f\"],[0.2222222222222222,\"#7201a8\"],[0.3333333333333333,\"#9c179e\"],[0.4444444444444444,\"#bd3786\"],[0.5555555555555556,\"#d8576b\"],[0.6666666666666666,\"#ed7953\"],[0.7777777777777778,\"#fb9f3a\"],[0.8888888888888888,\"#fdca26\"],[1.0,\"#f0f921\"]]}],\"surface\":[{\"type\":\"surface\",\"colorbar\":{\"outlinewidth\":0,\"ticks\":\"\"},\"colorscale\":[[0.0,\"#0d0887\"],[0.1111111111111111,\"#46039f\"],[0.2222222222222222,\"#7201a8\"],[0.3333333333333333,\"#9c179e\"],[0.4444444444444444,\"#bd3786\"],[0.5555555555555556,\"#d8576b\"],[0.6666666666666666,\"#ed7953\"],[0.7777777777777778,\"#fb9f3a\"],[0.8888888888888888,\"#fdca26\"],[1.0,\"#f0f921\"]]}],\"mesh3d\":[{\"type\":\"mesh3d\",\"colorbar\":{\"outlinewidth\":0,\"ticks\":\"\"}}],\"scatter\":[{\"fillpattern\":{\"fillmode\":\"overlay\",\"size\":10,\"solidity\":0.2},\"type\":\"scatter\"}],\"parcoords\":[{\"type\":\"parcoords\",\"line\":{\"colorbar\":{\"outlinewidth\":0,\"ticks\":\"\"}}}],\"scatterpolargl\":[{\"type\":\"scatterpolargl\",\"marker\":{\"colorbar\":{\"outlinewidth\":0,\"ticks\":\"\"}}}],\"bar\":[{\"error_x\":{\"color\":\"#2a3f5f\"},\"error_y\":{\"color\":\"#2a3f5f\"},\"marker\":{\"line\":{\"color\":\"#E5ECF6\",\"width\":0.5},\"pattern\":{\"fillmode\":\"overlay\",\"size\":10,\"solidity\":0.2}},\"type\":\"bar\"}],\"scattergeo\":[{\"type\":\"scattergeo\",\"marker\":{\"colorbar\":{\"outlinewidth\":0,\"ticks\":\"\"}}}],\"scatterpolar\":[{\"type\":\"scatterpolar\",\"marker\":{\"colorbar\":{\"outlinewidth\":0,\"ticks\":\"\"}}}],\"histogram\":[{\"marker\":{\"pattern\":{\"fillmode\":\"overlay\",\"size\":10,\"solidity\":0.2}},\"type\":\"histogram\"}],\"scattergl\":[{\"type\":\"scattergl\",\"marker\":{\"colorbar\":{\"outlinewidth\":0,\"ticks\":\"\"}}}],\"scatter3d\":[{\"type\":\"scatter3d\",\"line\":{\"colorbar\":{\"outlinewidth\":0,\"ticks\":\"\"}},\"marker\":{\"colorbar\":{\"outlinewidth\":0,\"ticks\":\"\"}}}],\"scattermapbox\":[{\"type\":\"scattermapbox\",\"marker\":{\"colorbar\":{\"outlinewidth\":0,\"ticks\":\"\"}}}],\"scatterternary\":[{\"type\":\"scatterternary\",\"marker\":{\"colorbar\":{\"outlinewidth\":0,\"ticks\":\"\"}}}],\"scattercarpet\":[{\"type\":\"scattercarpet\",\"marker\":{\"colorbar\":{\"outlinewidth\":0,\"ticks\":\"\"}}}],\"carpet\":[{\"aaxis\":{\"endlinecolor\":\"#2a3f5f\",\"gridcolor\":\"white\",\"linecolor\":\"white\",\"minorgridcolor\":\"white\",\"startlinecolor\":\"#2a3f5f\"},\"baxis\":{\"endlinecolor\":\"#2a3f5f\",\"gridcolor\":\"white\",\"linecolor\":\"white\",\"minorgridcolor\":\"white\",\"startlinecolor\":\"#2a3f5f\"},\"type\":\"carpet\"}],\"table\":[{\"cells\":{\"fill\":{\"color\":\"#EBF0F8\"},\"line\":{\"color\":\"white\"}},\"header\":{\"fill\":{\"color\":\"#C8D4E3\"},\"line\":{\"color\":\"white\"}},\"type\":\"table\"}],\"barpolar\":[{\"marker\":{\"line\":{\"color\":\"#E5ECF6\",\"width\":0.5},\"pattern\":{\"fillmode\":\"overlay\",\"size\":10,\"solidity\":0.2}},\"type\":\"barpolar\"}],\"pie\":[{\"automargin\":true,\"type\":\"pie\"}]},\"layout\":{\"autotypenumbers\":\"strict\",\"colorway\":[\"#636efa\",\"#EF553B\",\"#00cc96\",\"#ab63fa\",\"#FFA15A\",\"#19d3f3\",\"#FF6692\",\"#B6E880\",\"#FF97FF\",\"#FECB52\"],\"font\":{\"color\":\"#2a3f5f\"},\"hovermode\":\"closest\",\"hoverlabel\":{\"align\":\"left\"},\"paper_bgcolor\":\"white\",\"plot_bgcolor\":\"#E5ECF6\",\"polar\":{\"bgcolor\":\"#E5ECF6\",\"angularaxis\":{\"gridcolor\":\"white\",\"linecolor\":\"white\",\"ticks\":\"\"},\"radialaxis\":{\"gridcolor\":\"white\",\"linecolor\":\"white\",\"ticks\":\"\"}},\"ternary\":{\"bgcolor\":\"#E5ECF6\",\"aaxis\":{\"gridcolor\":\"white\",\"linecolor\":\"white\",\"ticks\":\"\"},\"baxis\":{\"gridcolor\":\"white\",\"linecolor\":\"white\",\"ticks\":\"\"},\"caxis\":{\"gridcolor\":\"white\",\"linecolor\":\"white\",\"ticks\":\"\"}},\"coloraxis\":{\"colorbar\":{\"outlinewidth\":0,\"ticks\":\"\"}},\"colorscale\":{\"sequential\":[[0.0,\"#0d0887\"],[0.1111111111111111,\"#46039f\"],[0.2222222222222222,\"#7201a8\"],[0.3333333333333333,\"#9c179e\"],[0.4444444444444444,\"#bd3786\"],[0.5555555555555556,\"#d8576b\"],[0.6666666666666666,\"#ed7953\"],[0.7777777777777778,\"#fb9f3a\"],[0.8888888888888888,\"#fdca26\"],[1.0,\"#f0f921\"]],\"sequentialminus\":[[0.0,\"#0d0887\"],[0.1111111111111111,\"#46039f\"],[0.2222222222222222,\"#7201a8\"],[0.3333333333333333,\"#9c179e\"],[0.4444444444444444,\"#bd3786\"],[0.5555555555555556,\"#d8576b\"],[0.6666666666666666,\"#ed7953\"],[0.7777777777777778,\"#fb9f3a\"],[0.8888888888888888,\"#fdca26\"],[1.0,\"#f0f921\"]],\"diverging\":[[0,\"#8e0152\"],[0.1,\"#c51b7d\"],[0.2,\"#de77ae\"],[0.3,\"#f1b6da\"],[0.4,\"#fde0ef\"],[0.5,\"#f7f7f7\"],[0.6,\"#e6f5d0\"],[0.7,\"#b8e186\"],[0.8,\"#7fbc41\"],[0.9,\"#4d9221\"],[1,\"#276419\"]]},\"xaxis\":{\"gridcolor\":\"white\",\"linecolor\":\"white\",\"ticks\":\"\",\"title\":{\"standoff\":15},\"zerolinecolor\":\"white\",\"automargin\":true,\"zerolinewidth\":2},\"yaxis\":{\"gridcolor\":\"white\",\"linecolor\":\"white\",\"ticks\":\"\",\"title\":{\"standoff\":15},\"zerolinecolor\":\"white\",\"automargin\":true,\"zerolinewidth\":2},\"scene\":{\"xaxis\":{\"backgroundcolor\":\"#E5ECF6\",\"gridcolor\":\"white\",\"linecolor\":\"white\",\"showbackground\":true,\"ticks\":\"\",\"zerolinecolor\":\"white\",\"gridwidth\":2},\"yaxis\":{\"backgroundcolor\":\"#E5ECF6\",\"gridcolor\":\"white\",\"linecolor\":\"white\",\"showbackground\":true,\"ticks\":\"\",\"zerolinecolor\":\"white\",\"gridwidth\":2},\"zaxis\":{\"backgroundcolor\":\"#E5ECF6\",\"gridcolor\":\"white\",\"linecolor\":\"white\",\"showbackground\":true,\"ticks\":\"\",\"zerolinecolor\":\"white\",\"gridwidth\":2}},\"shapedefaults\":{\"line\":{\"color\":\"#2a3f5f\"}},\"annotationdefaults\":{\"arrowcolor\":\"#2a3f5f\",\"arrowhead\":0,\"arrowwidth\":1},\"geo\":{\"bgcolor\":\"white\",\"landcolor\":\"#E5ECF6\",\"subunitcolor\":\"white\",\"showland\":true,\"showlakes\":true,\"lakecolor\":\"white\"},\"title\":{\"x\":0.05},\"mapbox\":{\"style\":\"light\"}}},\"scene\":{\"domain\":{\"x\":[0.0,1.0],\"y\":[0.0,1.0]},\"xaxis\":{\"title\":{\"text\":\"x\"}},\"yaxis\":{\"title\":{\"text\":\"y\"}},\"zaxis\":{\"title\":{\"text\":\"z\"}}},\"coloraxis\":{\"colorbar\":{\"title\":{\"text\":\"color\"}},\"colorscale\":[[0.0,\"#0d0887\"],[0.1111111111111111,\"#46039f\"],[0.2222222222222222,\"#7201a8\"],[0.3333333333333333,\"#9c179e\"],[0.4444444444444444,\"#bd3786\"],[0.5555555555555556,\"#d8576b\"],[0.6666666666666666,\"#ed7953\"],[0.7777777777777778,\"#fb9f3a\"],[0.8888888888888888,\"#fdca26\"],[1.0,\"#f0f921\"]]},\"legend\":{\"tracegroupgap\":0},\"margin\":{\"t\":60},\"title\":{\"text\":\"3D K-Means Clustering Results with K=3\"}},                        {\"responsive\": true}                    ).then(function(){\n",
       "                            \n",
       "var gd = document.getElementById('a5025b0d-1249-438d-8c3f-5382e37f3ee5');\n",
       "var x = new MutationObserver(function (mutations, observer) {{\n",
       "        var display = window.getComputedStyle(gd).display;\n",
       "        if (!display || display === 'none') {{\n",
       "            console.log([gd, 'removed!']);\n",
       "            Plotly.purge(gd);\n",
       "            observer.disconnect();\n",
       "        }}\n",
       "}});\n",
       "\n",
       "// Listen for the removal of the full notebook cells\n",
       "var notebookContainer = gd.closest('#notebook-container');\n",
       "if (notebookContainer) {{\n",
       "    x.observe(notebookContainer, {childList: true});\n",
       "}}\n",
       "\n",
       "// Listen for the clearing of the current output cell\n",
       "var outputEl = gd.closest('.output');\n",
       "if (outputEl) {{\n",
       "    x.observe(outputEl, {childList: true});\n",
       "}}\n",
       "\n",
       "                        })                };                });            </script>        </div>"
      ]
     },
     "metadata": {},
     "output_type": "display_data"
    }
   ],
   "source": [
    "# library for 3d graph \n",
    "import plotly.express as px\n",
    "\n",
    "# plot\n",
    "fig = px.scatter_3d(x=data[:,0], y=data[:,1], z=data[:,2], color=cluster_labels)\n",
    "fig.update_traces(marker=dict(size=5))\n",
    "fig.update_layout(title=\"3D K-Means Clustering Results with K=3\")\n",
    "fig.show()"
   ]
  }
 ],
 "metadata": {
  "colab": {
   "provenance": []
  },
  "kernelspec": {
   "display_name": "Python 3 (ipykernel)",
   "language": "python",
   "name": "python3"
  },
  "language_info": {
   "codemirror_mode": {
    "name": "ipython",
    "version": 3
   },
   "file_extension": ".py",
   "mimetype": "text/x-python",
   "name": "python",
   "nbconvert_exporter": "python",
   "pygments_lexer": "ipython3",
   "version": "3.9.13"
  }
 },
 "nbformat": 4,
 "nbformat_minor": 1
}
